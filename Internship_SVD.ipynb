{
 "cells": [
  {
   "cell_type": "code",
   "execution_count": 6,
   "metadata": {
    "colab": {
     "base_uri": "https://localhost:8080/"
    },
    "id": "r9ImmMc0GhKz",
    "outputId": "aaccee05-baac-4758-c2fb-a762dd8d404f"
   },
   "outputs": [
    {
     "name": "stdout",
     "output_type": "stream",
     "text": [
      "Collecting surprise\n",
      "  Downloading https://files.pythonhosted.org/packages/61/de/e5cba8682201fcf9c3719a6fdda95693468ed061945493dea2dd37c5618b/surprise-0.1-py2.py3-none-any.whl\n",
      "Collecting scikit-surprise\n",
      "\u001b[?25l  Downloading https://files.pythonhosted.org/packages/97/37/5d334adaf5ddd65da99fc65f6507e0e4599d092ba048f4302fe8775619e8/scikit-surprise-1.1.1.tar.gz (11.8MB)\n",
      "\u001b[K     |████████████████████████████████| 11.8MB 227kB/s \n",
      "\u001b[?25hRequirement already satisfied: joblib>=0.11 in /usr/local/lib/python3.7/dist-packages (from scikit-surprise->surprise) (1.0.1)\n",
      "Requirement already satisfied: numpy>=1.11.2 in /usr/local/lib/python3.7/dist-packages (from scikit-surprise->surprise) (1.19.5)\n",
      "Requirement already satisfied: scipy>=1.0.0 in /usr/local/lib/python3.7/dist-packages (from scikit-surprise->surprise) (1.4.1)\n",
      "Requirement already satisfied: six>=1.10.0 in /usr/local/lib/python3.7/dist-packages (from scikit-surprise->surprise) (1.15.0)\n",
      "Building wheels for collected packages: scikit-surprise\n",
      "  Building wheel for scikit-surprise (setup.py) ... \u001b[?25l\u001b[?25hdone\n",
      "  Created wheel for scikit-surprise: filename=scikit_surprise-1.1.1-cp37-cp37m-linux_x86_64.whl size=1617624 sha256=efb49fbb38903fb67fdefd254834afb225a8631e1266502bf3eb4e1ec8bf5c4a\n",
      "  Stored in directory: /root/.cache/pip/wheels/78/9c/3d/41b419c9d2aff5b6e2b4c0fc8d25c538202834058f9ed110d0\n",
      "Successfully built scikit-surprise\n",
      "Installing collected packages: scikit-surprise, surprise\n",
      "Successfully installed scikit-surprise-1.1.1 surprise-0.1\n"
     ]
    }
   ],
   "source": [
    "!pip install surprise"
   ]
  },
  {
   "cell_type": "code",
   "execution_count": 1,
   "metadata": {
    "id": "TLuEy5UNG7ET"
   },
   "outputs": [],
   "source": [
    "import pandas as pd\n",
    "import numpy as np"
   ]
  },
  {
   "cell_type": "code",
   "execution_count": 3,
   "metadata": {
    "id": "aW8kFp7DG_k0"
   },
   "outputs": [],
   "source": [
    "rating_dataframe=pd.read_csv(\"ratings.csv\")"
   ]
  },
  {
   "cell_type": "code",
   "execution_count": 4,
   "metadata": {
    "colab": {
     "base_uri": "https://localhost:8080/",
     "height": 203
    },
    "id": "54Fdn-k8QgYX",
    "outputId": "1b6f55a8-6038-4b65-c364-323bd71d92c0"
   },
   "outputs": [
    {
     "data": {
      "text/html": [
       "<div>\n",
       "<style scoped>\n",
       "    .dataframe tbody tr th:only-of-type {\n",
       "        vertical-align: middle;\n",
       "    }\n",
       "\n",
       "    .dataframe tbody tr th {\n",
       "        vertical-align: top;\n",
       "    }\n",
       "\n",
       "    .dataframe thead th {\n",
       "        text-align: right;\n",
       "    }\n",
       "</style>\n",
       "<table border=\"1\" class=\"dataframe\">\n",
       "  <thead>\n",
       "    <tr style=\"text-align: right;\">\n",
       "      <th></th>\n",
       "      <th>userId</th>\n",
       "      <th>movieId</th>\n",
       "      <th>rating</th>\n",
       "      <th>timestamp</th>\n",
       "    </tr>\n",
       "  </thead>\n",
       "  <tbody>\n",
       "    <tr>\n",
       "      <th>0</th>\n",
       "      <td>1</td>\n",
       "      <td>110</td>\n",
       "      <td>1.0</td>\n",
       "      <td>1.425942e+09</td>\n",
       "    </tr>\n",
       "    <tr>\n",
       "      <th>1</th>\n",
       "      <td>1</td>\n",
       "      <td>147</td>\n",
       "      <td>4.5</td>\n",
       "      <td>1.425942e+09</td>\n",
       "    </tr>\n",
       "    <tr>\n",
       "      <th>2</th>\n",
       "      <td>1</td>\n",
       "      <td>858</td>\n",
       "      <td>5.0</td>\n",
       "      <td>1.425942e+09</td>\n",
       "    </tr>\n",
       "    <tr>\n",
       "      <th>3</th>\n",
       "      <td>1</td>\n",
       "      <td>1221</td>\n",
       "      <td>5.0</td>\n",
       "      <td>1.425942e+09</td>\n",
       "    </tr>\n",
       "    <tr>\n",
       "      <th>4</th>\n",
       "      <td>1</td>\n",
       "      <td>1246</td>\n",
       "      <td>5.0</td>\n",
       "      <td>1.425942e+09</td>\n",
       "    </tr>\n",
       "  </tbody>\n",
       "</table>\n",
       "</div>"
      ],
      "text/plain": [
       "   userId  movieId  rating     timestamp\n",
       "0       1      110     1.0  1.425942e+09\n",
       "1       1      147     4.5  1.425942e+09\n",
       "2       1      858     5.0  1.425942e+09\n",
       "3       1     1221     5.0  1.425942e+09\n",
       "4       1     1246     5.0  1.425942e+09"
      ]
     },
     "execution_count": 4,
     "metadata": {
      "tags": []
     },
     "output_type": "execute_result"
    }
   ],
   "source": [
    "rating_dataframe.head()"
   ]
  },
  {
   "cell_type": "code",
   "execution_count": 7,
   "metadata": {
    "id": "pQLoNvQHQsZT"
   },
   "outputs": [],
   "source": [
    "from surprise import Reader, Dataset, SVD\n",
    "reader = Reader()"
   ]
  },
  {
   "cell_type": "code",
   "execution_count": 8,
   "metadata": {
    "colab": {
     "base_uri": "https://localhost:8080/"
    },
    "id": "k0lpljDMQu8c",
    "outputId": "30d7ff0b-2504-4dea-ee81-78dd19deea15"
   },
   "outputs": [
    {
     "name": "stdout",
     "output_type": "stream",
     "text": [
      "Evaluating RMSE, MAE of algorithm SVD on 10 split(s).\n",
      "\n",
      "                  Fold 1  Fold 2  Fold 3  Fold 4  Fold 5  Fold 6  Fold 7  Fold 8  Fold 9  Fold 10 Mean    Std     \n",
      "RMSE (testset)    1.8421  1.7815  1.8079  1.8161  nan     1.8521  1.7910  1.8170  1.7963  1.8187  nan     nan     \n",
      "MAE (testset)     1.5042  1.4591  1.4900  1.5019  nan     1.5206  1.4629  1.4963  1.4773  1.4941  nan     nan     \n",
      "Fit time          2.37    2.43    2.38    2.41    2.36    2.38    2.36    2.36    2.35    2.37    2.38    0.02    \n",
      "Test time         0.03    0.03    0.03    0.03    0.03    0.10    0.03    0.03    0.04    0.03    0.04    0.02    \n"
     ]
    },
    {
     "data": {
      "text/plain": [
       "{'fit_time': (2.369961977005005,\n",
       "  2.4300038814544678,\n",
       "  2.3848423957824707,\n",
       "  2.406852960586548,\n",
       "  2.3593103885650635,\n",
       "  2.383589267730713,\n",
       "  2.356907367706299,\n",
       "  2.3580546379089355,\n",
       "  2.346392869949341,\n",
       "  2.373934745788574),\n",
       " 'test_mae': array([1.5041841 , 1.4590888 , 1.49000465, 1.5018596 ,        nan,\n",
       "        1.52057661, 1.4629156 , 1.49627993, 1.47733085, 1.49407115]),\n",
       " 'test_rmse': array([1.84212423, 1.78153659, 1.8078616 , 1.8160719 ,        nan,\n",
       "        1.8520617 , 1.79095223, 1.81700293, 1.79633174, 1.81874555]),\n",
       " 'test_time': (0.030875444412231445,\n",
       "  0.03170418739318848,\n",
       "  0.03083038330078125,\n",
       "  0.031118392944335938,\n",
       "  0.03340578079223633,\n",
       "  0.09566831588745117,\n",
       "  0.03241157531738281,\n",
       "  0.030469655990600586,\n",
       "  0.043431997299194336,\n",
       "  0.030394554138183594)}"
      ]
     },
     "execution_count": 8,
     "metadata": {
      "tags": []
     },
     "output_type": "execute_result"
    }
   ],
   "source": [
    "data = Dataset.load_from_df(rating_dataframe[['userId', 'movieId', 'rating']], reader)\n",
    "\n",
    "from surprise.model_selection import cross_validate\n",
    "\n",
    "\n",
    "\n",
    "# Using SVD\n",
    "svd = SVD()\n",
    "\n",
    "# Running 10-fold cross-validation and then print results\n",
    "cross_validate(svd, data, measures=['RMSE', 'MAE'], cv=10, verbose=True)"
   ]
  },
  {
   "cell_type": "code",
   "execution_count": 9,
   "metadata": {
    "colab": {
     "base_uri": "https://localhost:8080/"
    },
    "id": "jWOtH5R4rBCi",
    "outputId": "0659555b-ac71-4943-efff-753eea3d26d7"
   },
   "outputs": [
    {
     "data": {
      "text/plain": [
       "<surprise.prediction_algorithms.matrix_factorization.SVD at 0x7f69e39ac350>"
      ]
     },
     "execution_count": 9,
     "metadata": {
      "tags": []
     },
     "output_type": "execute_result"
    }
   ],
   "source": [
    "trainset = data.build_full_trainset()\n",
    "svd.fit(trainset)"
   ]
  },
  {
   "cell_type": "code",
   "execution_count": 10,
   "metadata": {
    "colab": {
     "base_uri": "https://localhost:8080/",
     "height": 726
    },
    "id": "ET0fwmvsvXNj",
    "outputId": "28ca251f-f75d-4527-af4c-9829d439d361"
   },
   "outputs": [
    {
     "data": {
      "text/html": [
       "<div>\n",
       "<style scoped>\n",
       "    .dataframe tbody tr th:only-of-type {\n",
       "        vertical-align: middle;\n",
       "    }\n",
       "\n",
       "    .dataframe tbody tr th {\n",
       "        vertical-align: top;\n",
       "    }\n",
       "\n",
       "    .dataframe thead th {\n",
       "        text-align: right;\n",
       "    }\n",
       "</style>\n",
       "<table border=\"1\" class=\"dataframe\">\n",
       "  <thead>\n",
       "    <tr style=\"text-align: right;\">\n",
       "      <th></th>\n",
       "      <th>userId</th>\n",
       "      <th>movieId</th>\n",
       "      <th>rating</th>\n",
       "      <th>timestamp</th>\n",
       "    </tr>\n",
       "  </thead>\n",
       "  <tbody>\n",
       "    <tr>\n",
       "      <th>27</th>\n",
       "      <td>2</td>\n",
       "      <td>5</td>\n",
       "      <td>3.0</td>\n",
       "      <td>867039249.0</td>\n",
       "    </tr>\n",
       "    <tr>\n",
       "      <th>28</th>\n",
       "      <td>2</td>\n",
       "      <td>25</td>\n",
       "      <td>3.0</td>\n",
       "      <td>867039168.0</td>\n",
       "    </tr>\n",
       "    <tr>\n",
       "      <th>29</th>\n",
       "      <td>2</td>\n",
       "      <td>32</td>\n",
       "      <td>2.0</td>\n",
       "      <td>867039166.0</td>\n",
       "    </tr>\n",
       "    <tr>\n",
       "      <th>30</th>\n",
       "      <td>2</td>\n",
       "      <td>58</td>\n",
       "      <td>3.0</td>\n",
       "      <td>867039325.0</td>\n",
       "    </tr>\n",
       "    <tr>\n",
       "      <th>31</th>\n",
       "      <td>2</td>\n",
       "      <td>64</td>\n",
       "      <td>4.0</td>\n",
       "      <td>867039612.0</td>\n",
       "    </tr>\n",
       "    <tr>\n",
       "      <th>32</th>\n",
       "      <td>2</td>\n",
       "      <td>79</td>\n",
       "      <td>4.0</td>\n",
       "      <td>867039325.0</td>\n",
       "    </tr>\n",
       "    <tr>\n",
       "      <th>33</th>\n",
       "      <td>2</td>\n",
       "      <td>141</td>\n",
       "      <td>3.0</td>\n",
       "      <td>867039168.0</td>\n",
       "    </tr>\n",
       "    <tr>\n",
       "      <th>34</th>\n",
       "      <td>2</td>\n",
       "      <td>260</td>\n",
       "      <td>4.0</td>\n",
       "      <td>867039249.0</td>\n",
       "    </tr>\n",
       "    <tr>\n",
       "      <th>35</th>\n",
       "      <td>2</td>\n",
       "      <td>339</td>\n",
       "      <td>5.0</td>\n",
       "      <td>867041296.0</td>\n",
       "    </tr>\n",
       "    <tr>\n",
       "      <th>36</th>\n",
       "      <td>2</td>\n",
       "      <td>377</td>\n",
       "      <td>4.0</td>\n",
       "      <td>867041121.0</td>\n",
       "    </tr>\n",
       "    <tr>\n",
       "      <th>37</th>\n",
       "      <td>2</td>\n",
       "      <td>605</td>\n",
       "      <td>4.0</td>\n",
       "      <td>867039973.0</td>\n",
       "    </tr>\n",
       "    <tr>\n",
       "      <th>38</th>\n",
       "      <td>2</td>\n",
       "      <td>628</td>\n",
       "      <td>4.0</td>\n",
       "      <td>867039325.0</td>\n",
       "    </tr>\n",
       "    <tr>\n",
       "      <th>39</th>\n",
       "      <td>2</td>\n",
       "      <td>648</td>\n",
       "      <td>4.0</td>\n",
       "      <td>867039167.0</td>\n",
       "    </tr>\n",
       "    <tr>\n",
       "      <th>40</th>\n",
       "      <td>2</td>\n",
       "      <td>762</td>\n",
       "      <td>3.0</td>\n",
       "      <td>867039325.0</td>\n",
       "    </tr>\n",
       "    <tr>\n",
       "      <th>41</th>\n",
       "      <td>2</td>\n",
       "      <td>780</td>\n",
       "      <td>3.0</td>\n",
       "      <td>867039165.0</td>\n",
       "    </tr>\n",
       "    <tr>\n",
       "      <th>42</th>\n",
       "      <td>2</td>\n",
       "      <td>786</td>\n",
       "      <td>1.0</td>\n",
       "      <td>867039249.0</td>\n",
       "    </tr>\n",
       "    <tr>\n",
       "      <th>43</th>\n",
       "      <td>2</td>\n",
       "      <td>788</td>\n",
       "      <td>1.0</td>\n",
       "      <td>867039288.0</td>\n",
       "    </tr>\n",
       "    <tr>\n",
       "      <th>44</th>\n",
       "      <td>2</td>\n",
       "      <td>1210</td>\n",
       "      <td>4.0</td>\n",
       "      <td>867039325.0</td>\n",
       "    </tr>\n",
       "    <tr>\n",
       "      <th>45</th>\n",
       "      <td>2</td>\n",
       "      <td>1233</td>\n",
       "      <td>4.0</td>\n",
       "      <td>867039820.0</td>\n",
       "    </tr>\n",
       "    <tr>\n",
       "      <th>46</th>\n",
       "      <td>2</td>\n",
       "      <td>1356</td>\n",
       "      <td>5.0</td>\n",
       "      <td>867039288.0</td>\n",
       "    </tr>\n",
       "    <tr>\n",
       "      <th>47</th>\n",
       "      <td>2</td>\n",
       "      <td>1475</td>\n",
       "      <td>3.0</td>\n",
       "      <td>867040824.0</td>\n",
       "    </tr>\n",
       "    <tr>\n",
       "      <th>48</th>\n",
       "      <td>2</td>\n",
       "      <td>1552</td>\n",
       "      <td>2.0</td>\n",
       "      <td>867040735.0</td>\n",
       "    </tr>\n",
       "  </tbody>\n",
       "</table>\n",
       "</div>"
      ],
      "text/plain": [
       "    userId  movieId  rating    timestamp\n",
       "27       2        5     3.0  867039249.0\n",
       "28       2       25     3.0  867039168.0\n",
       "29       2       32     2.0  867039166.0\n",
       "30       2       58     3.0  867039325.0\n",
       "31       2       64     4.0  867039612.0\n",
       "32       2       79     4.0  867039325.0\n",
       "33       2      141     3.0  867039168.0\n",
       "34       2      260     4.0  867039249.0\n",
       "35       2      339     5.0  867041296.0\n",
       "36       2      377     4.0  867041121.0\n",
       "37       2      605     4.0  867039973.0\n",
       "38       2      628     4.0  867039325.0\n",
       "39       2      648     4.0  867039167.0\n",
       "40       2      762     3.0  867039325.0\n",
       "41       2      780     3.0  867039165.0\n",
       "42       2      786     1.0  867039249.0\n",
       "43       2      788     1.0  867039288.0\n",
       "44       2     1210     4.0  867039325.0\n",
       "45       2     1233     4.0  867039820.0\n",
       "46       2     1356     5.0  867039288.0\n",
       "47       2     1475     3.0  867040824.0\n",
       "48       2     1552     2.0  867040735.0"
      ]
     },
     "execution_count": 10,
     "metadata": {
      "tags": []
     },
     "output_type": "execute_result"
    }
   ],
   "source": [
    "rating_dataframe[rating_dataframe['userId'] == 2]"
   ]
  },
  {
   "cell_type": "code",
   "execution_count": 11,
   "metadata": {
    "colab": {
     "base_uri": "https://localhost:8080/"
    },
    "id": "9n27m66RypD0",
    "outputId": "4a620bd7-7e3d-48cf-f3d8-4da2cbc5c190"
   },
   "outputs": [
    {
     "data": {
      "text/plain": [
       "Prediction(uid=2, iid=1552, r_ui=3, est=5, details={'was_impossible': False})"
      ]
     },
     "execution_count": 11,
     "metadata": {
      "tags": []
     },
     "output_type": "execute_result"
    }
   ],
   "source": [
    "svd.predict(2, 1552, 3)"
   ]
  },
  {
   "cell_type": "code",
   "execution_count": null,
   "metadata": {
    "id": "fc88tYEJzSzU"
   },
   "outputs": [],
   "source": [
    "rating_dataframe.to_csv(\"SVDfile.csv\")"
   ]
  },
  {
   "cell_type": "code",
   "execution_count": null,
   "metadata": {
    "id": "VuzlaM5V2i8A"
   },
   "outputs": [],
   "source": []
  },
  {
   "cell_type": "code",
   "execution_count": null,
   "metadata": {
    "id": "GOhvO7Lc1k5t"
   },
   "outputs": [],
   "source": []
  }
 ],
 "metadata": {
  "colab": {
   "collapsed_sections": [],
   "name": "Internship_SVD.ipynb",
   "provenance": []
  },
  "kernelspec": {
   "display_name": "Python 3",
   "language": "python",
   "name": "python3"
  },
  "language_info": {
   "codemirror_mode": {
    "name": "ipython",
    "version": 3
   },
   "file_extension": ".py",
   "mimetype": "text/x-python",
   "name": "python",
   "nbconvert_exporter": "python",
   "pygments_lexer": "ipython3",
   "version": "3.7.4"
  }
 },
 "nbformat": 4,
 "nbformat_minor": 1
}
