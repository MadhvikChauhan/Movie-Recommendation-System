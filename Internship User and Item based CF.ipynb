{
 "cells": [
  {
   "cell_type": "code",
   "execution_count": null,
   "metadata": {},
   "outputs": [],
   "source": [
    "#import libraries specific to recommendation system\n",
    "!pip install surprise\n",
    "from surprise import KNNWithMeans\n",
    "from surprise import Dataset\n",
    "from surprise import accuracy\n",
    "from surprise.model_selection import train_test_split\n",
    "#load the movielens-100k dataset  UserId :: MovieID :: Rating ::Timestamp\n",
    "data=Dataset.load_builtin('D:\\\\Madhvik 05\\\\Industrial training files\\\\ratings.csv')"
   ]
  },
  {
   "cell_type": "code",
   "execution_count": null,
   "metadata": {},
   "outputs": [],
   "source": [
    "#use user based true/false to switch between user-based or item-based collaborative filters\n",
    "trainset,testset=train_test_split(data,test_size=.15)\n",
    "algo=KNNWithMeans(k=50,sim_options={'name':'pearson_baseline','user_based':False})\n",
    "algo.fit(trainset)"
   ]
  },
  {
   "cell_type": "code",
   "execution_count": null,
   "metadata": {},
   "outputs": [],
   "source": [
    "#We can now query for speicific predictions\n",
    "#\n",
    "\n",
    "# get a prediction for specific users and items\n",
    "pred=algo.predict(1,110,1,verbose=True) "
   ]
  },
  {
   "cell_type": "code",
   "execution_count": null,
   "metadata": {},
   "outputs": [],
   "source": [
    "#run the trained model against the tesset\n",
    "test_pred=algo.test(testset)\n",
    "test_pred"
   ]
  }
 ],
 "metadata": {
  "kernelspec": {
   "display_name": "Python 3",
   "language": "python",
   "name": "python3"
  },
  "language_info": {
   "codemirror_mode": {
    "name": "ipython",
    "version": 3
   },
   "file_extension": ".py",
   "mimetype": "text/x-python",
   "name": "python",
   "nbconvert_exporter": "python",
   "pygments_lexer": "ipython3",
   "version": "3.7.4"
  }
 },
 "nbformat": 4,
 "nbformat_minor": 2
}
