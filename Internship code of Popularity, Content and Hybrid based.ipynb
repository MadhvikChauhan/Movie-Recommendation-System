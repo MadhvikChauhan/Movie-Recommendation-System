{
 "cells": [
  {
   "cell_type": "markdown",
   "metadata": {},
   "source": [
    "# Importing Libraries"
   ]
  },
  {
   "cell_type": "code",
   "execution_count": 1,
   "metadata": {},
   "outputs": [],
   "source": [
    "import pandas as pd #for reading the csv files\n",
    "import numpy as np #for implementing matrix operations\n",
    "import matplotlib.pyplot as plt #To visualize data graphically"
   ]
  },
  {
   "cell_type": "markdown",
   "metadata": {},
   "source": [
    "# Defining File Locations"
   ]
  },
  {
   "cell_type": "code",
   "execution_count": 2,
   "metadata": {},
   "outputs": [],
   "source": [
    "location1='D:\\\\Madhvik 05\\\\Industrial training files\\\\bollywood_2010-2019.csv'\n",
    "location2='D:\\\\Madhvik 05\\\\Industrial training files\\\\bollywood_meta_2010-2019.csv'\n",
    "location3='D:\\\\Madhvik 05\\\\Industrial training files\\\\bollywood_ratings_2010-2019.csv'\n",
    "location4='D:\\\\Madhvik 05\\\\Industrial training files\\\\bollywood_text_2010-2019.csv'"
   ]
  },
  {
   "cell_type": "markdown",
   "metadata": {},
   "source": [
    "# Reading CSV files"
   ]
  },
  {
   "cell_type": "code",
   "execution_count": 3,
   "metadata": {},
   "outputs": [
    {
     "data": {
      "text/plain": [
       "(980, 4)"
      ]
     },
     "execution_count": 3,
     "metadata": {},
     "output_type": "execute_result"
    }
   ],
   "source": [
    "movie_title=pd.read_csv(location1)\n",
    "movie_meta=pd.read_csv(location2)\n",
    "movie_ratings=pd.read_csv(location3)\n",
    "movie_text=pd.read_csv(location4)\n",
    "movie_title.shape"
   ]
  },
  {
   "cell_type": "markdown",
   "metadata": {},
   "source": [
    "# Data preprocessing"
   ]
  },
  {
   "cell_type": "code",
   "execution_count": 4,
   "metadata": {},
   "outputs": [],
   "source": [
    "#movie_dataframe=pd.DataFrame(movie_file)\n",
    "#credit_dataframe=pd.DataFrame(credit_file)"
   ]
  },
  {
   "cell_type": "code",
   "execution_count": 5,
   "metadata": {},
   "outputs": [
    {
     "data": {
      "text/plain": [
       "(934, 18)"
      ]
     },
     "execution_count": 5,
     "metadata": {},
     "output_type": "execute_result"
    }
   ],
   "source": [
    "movie_dataset=movie_title.merge(movie_ratings,on='imdb_id')\n",
    "movie_dataset=movie_dataset.merge(movie_meta,on='imdb_id')\n",
    "movie_dataset=movie_dataset.merge(movie_text,on='imdb_id')\n",
    "movie_dataset.to_csv('D:\\\\Madhvik 05\\\\Industrial training files\\\\save_bollywood_movie_file.csv')\n",
    "movie_dataset.shape"
   ]
  },
  {
   "cell_type": "code",
   "execution_count": 6,
   "metadata": {},
   "outputs": [
    {
     "data": {
      "text/plain": [
       "Index(['title', 'imdb_id', 'poster_path', 'wiki_link', 'imdb_rating',\n",
       "       'imdb_votes', 'is_adult', 'year_of_release', 'runtime', 'genres',\n",
       "       'story', 'summary', 'tagline', 'actors', 'wins_nominations',\n",
       "       'release_date'],\n",
       "      dtype='object')"
      ]
     },
     "execution_count": 6,
     "metadata": {},
     "output_type": "execute_result"
    }
   ],
   "source": [
    "movie_dataset.drop_duplicates(keep='first',inplace=True)\n",
    "movie_dataset.drop(['title_y','original_title'],axis=1,inplace=True)\n",
    "movie_dataset.rename(columns={'title_x':'title'},inplace=True)\n",
    "movie_dataset.columns\n"
   ]
  },
  {
   "cell_type": "code",
   "execution_count": 7,
   "metadata": {},
   "outputs": [
    {
     "name": "stdout",
     "output_type": "stream",
     "text": [
      "mean votes= 5959.035437430786\n",
      "min votes=  16604.600000000006\n"
     ]
    },
    {
     "data": {
      "text/plain": [
       "(91, 16)"
      ]
     },
     "execution_count": 7,
     "metadata": {},
     "output_type": "execute_result"
    }
   ],
   "source": [
    "mean_votes= movie_dataset['imdb_votes'].mean()\n",
    "print(\"mean votes=\",mean_votes)\n",
    "min_votes= movie_dataset['imdb_votes'].quantile(0.9)\n",
    "#Selecting the movies that are having votes greater than 90th percentile\n",
    "q_movies = movie_dataset.loc[movie_dataset['imdb_votes'] >= min_votes]\n",
    "print(\"min votes= \",min_votes)\n",
    "q_movies.shape\n",
    "\n"
   ]
  },
  {
   "cell_type": "markdown",
   "metadata": {},
   "source": [
    "# Defining IMDB weighted average rating function"
   ]
  },
  {
   "cell_type": "code",
   "execution_count": 8,
   "metadata": {},
   "outputs": [
    {
     "name": "stderr",
     "output_type": "stream",
     "text": [
      "C:\\Anaconda\\lib\\site-packages\\ipykernel_launcher.py:6: SettingWithCopyWarning: \n",
      "A value is trying to be set on a copy of a slice from a DataFrame.\n",
      "Try using .loc[row_indexer,col_indexer] = value instead\n",
      "\n",
      "See the caveats in the documentation: http://pandas.pydata.org/pandas-docs/stable/user_guide/indexing.html#returning-a-view-versus-a-copy\n",
      "  \n"
     ]
    }
   ],
   "source": [
    "def weighted_rating(x, m=min_votes, C=mean_votes):\n",
    "    v = x['imdb_votes']\n",
    "    R = x['imdb_rating']\n",
    "    return (v/(v+m) * R) + (m/(m+v) * C)\n",
    "    \n",
    "q_movies['score'] = q_movies.apply(weighted_rating, axis=1)\n",
    " \n",
    " \n",
    "#Sorting movies based on score calculated above\n",
    "q_movies = q_movies.sort_values('score', ascending=False)\n",
    "\n",
    "#Printing the top 15 movies\n",
    "#q_movies[['original_title', 'vote_count', 'vote_average', 'score']].reset_index(drop=True).head(10)\n"
   ]
  },
  {
   "cell_type": "code",
   "execution_count": 9,
   "metadata": {},
   "outputs": [],
   "source": [
    "q_movies.to_csv('D:\\\\Madhvik 05\\\\Industrial training files\\\\save_bollywood_movie_file_with_score.csv')"
   ]
  },
  {
   "cell_type": "code",
   "execution_count": 10,
   "metadata": {},
   "outputs": [
    {
     "data": {
      "text/html": [
       "<div>\n",
       "<style scoped>\n",
       "    .dataframe tbody tr th:only-of-type {\n",
       "        vertical-align: middle;\n",
       "    }\n",
       "\n",
       "    .dataframe tbody tr th {\n",
       "        vertical-align: top;\n",
       "    }\n",
       "\n",
       "    .dataframe thead th {\n",
       "        text-align: right;\n",
       "    }\n",
       "</style>\n",
       "<table border=\"1\" class=\"dataframe\">\n",
       "  <thead>\n",
       "    <tr style=\"text-align: right;\">\n",
       "      <th></th>\n",
       "      <th>title</th>\n",
       "      <th>imdb_votes</th>\n",
       "      <th>imdb_rating</th>\n",
       "      <th>score</th>\n",
       "    </tr>\n",
       "  </thead>\n",
       "  <tbody>\n",
       "    <tr>\n",
       "      <td>0</td>\n",
       "      <td>Manjhi – The Mountain Man</td>\n",
       "      <td>16622.0</td>\n",
       "      <td>8.0</td>\n",
       "      <td>2981.959509</td>\n",
       "    </tr>\n",
       "    <tr>\n",
       "      <td>1</td>\n",
       "      <td>Goliyon Ki Raasleela Ram-Leela</td>\n",
       "      <td>17246.0</td>\n",
       "      <td>6.4</td>\n",
       "      <td>2926.322553</td>\n",
       "    </tr>\n",
       "    <tr>\n",
       "      <td>2</td>\n",
       "      <td>Jab Harry Met Sejal</td>\n",
       "      <td>17317.0</td>\n",
       "      <td>5.3</td>\n",
       "      <td>2919.649425</td>\n",
       "    </tr>\n",
       "    <tr>\n",
       "      <td>3</td>\n",
       "      <td>Sonu Ke Titu Ki Sweety</td>\n",
       "      <td>17378.0</td>\n",
       "      <td>7.1</td>\n",
       "      <td>2915.338545</td>\n",
       "    </tr>\n",
       "    <tr>\n",
       "      <td>4</td>\n",
       "      <td>Ugly (film)</td>\n",
       "      <td>17483.0</td>\n",
       "      <td>8.1</td>\n",
       "      <td>2906.893185</td>\n",
       "    </tr>\n",
       "    <tr>\n",
       "      <td>5</td>\n",
       "      <td>Secret Superstar</td>\n",
       "      <td>17698.0</td>\n",
       "      <td>7.9</td>\n",
       "      <td>2888.621096</td>\n",
       "    </tr>\n",
       "    <tr>\n",
       "      <td>6</td>\n",
       "      <td>Parmanu: The Story of Pokhran</td>\n",
       "      <td>18292.0</td>\n",
       "      <td>7.7</td>\n",
       "      <td>2839.481446</td>\n",
       "    </tr>\n",
       "    <tr>\n",
       "      <td>7</td>\n",
       "      <td>Hindi Medium</td>\n",
       "      <td>18315.0</td>\n",
       "      <td>7.8</td>\n",
       "      <td>2837.668725</td>\n",
       "    </tr>\n",
       "    <tr>\n",
       "      <td>8</td>\n",
       "      <td>Pyaar Ka Punchnama</td>\n",
       "      <td>18369.0</td>\n",
       "      <td>7.7</td>\n",
       "      <td>2833.246824</td>\n",
       "    </tr>\n",
       "    <tr>\n",
       "      <td>9</td>\n",
       "      <td>Ae Dil Hai Mushkil</td>\n",
       "      <td>18998.0</td>\n",
       "      <td>5.8</td>\n",
       "      <td>2782.313320</td>\n",
       "    </tr>\n",
       "    <tr>\n",
       "      <td>10</td>\n",
       "      <td>Neerja</td>\n",
       "      <td>19046.0</td>\n",
       "      <td>7.7</td>\n",
       "      <td>2779.590078</td>\n",
       "    </tr>\n",
       "    <tr>\n",
       "      <td>11</td>\n",
       "      <td>Tiger Zinda Hai</td>\n",
       "      <td>19760.0</td>\n",
       "      <td>6.0</td>\n",
       "      <td>2724.241703</td>\n",
       "    </tr>\n",
       "    <tr>\n",
       "      <td>12</td>\n",
       "      <td>Masaan</td>\n",
       "      <td>19904.0</td>\n",
       "      <td>8.1</td>\n",
       "      <td>2714.665099</td>\n",
       "    </tr>\n",
       "    <tr>\n",
       "      <td>13</td>\n",
       "      <td>Badlapur (film)</td>\n",
       "      <td>20021.0</td>\n",
       "      <td>7.4</td>\n",
       "      <td>2705.636364</td>\n",
       "    </tr>\n",
       "    <tr>\n",
       "      <td>14</td>\n",
       "      <td>Raazi</td>\n",
       "      <td>20289.0</td>\n",
       "      <td>7.8</td>\n",
       "      <td>2686.255991</td>\n",
       "    </tr>\n",
       "  </tbody>\n",
       "</table>\n",
       "</div>"
      ],
      "text/plain": [
       "                             title  imdb_votes  imdb_rating        score\n",
       "0        Manjhi – The Mountain Man     16622.0          8.0  2981.959509\n",
       "1   Goliyon Ki Raasleela Ram-Leela     17246.0          6.4  2926.322553\n",
       "2              Jab Harry Met Sejal     17317.0          5.3  2919.649425\n",
       "3           Sonu Ke Titu Ki Sweety     17378.0          7.1  2915.338545\n",
       "4                      Ugly (film)     17483.0          8.1  2906.893185\n",
       "5                 Secret Superstar     17698.0          7.9  2888.621096\n",
       "6    Parmanu: The Story of Pokhran     18292.0          7.7  2839.481446\n",
       "7                     Hindi Medium     18315.0          7.8  2837.668725\n",
       "8               Pyaar Ka Punchnama     18369.0          7.7  2833.246824\n",
       "9               Ae Dil Hai Mushkil     18998.0          5.8  2782.313320\n",
       "10                          Neerja     19046.0          7.7  2779.590078\n",
       "11                 Tiger Zinda Hai     19760.0          6.0  2724.241703\n",
       "12                          Masaan     19904.0          8.1  2714.665099\n",
       "13                 Badlapur (film)     20021.0          7.4  2705.636364\n",
       "14                           Raazi     20289.0          7.8  2686.255991"
      ]
     },
     "execution_count": 10,
     "metadata": {},
     "output_type": "execute_result"
    }
   ],
   "source": [
    "q_movies[['title', 'imdb_votes', 'imdb_rating', 'score']].reset_index(drop=True).head(15)"
   ]
  },
  {
   "cell_type": "code",
   "execution_count": 13,
   "metadata": {},
   "outputs": [
    {
     "name": "stderr",
     "output_type": "stream",
     "text": [
      "No handles with labels found to put in legend.\n"
     ]
    },
    {
     "data": {
      "text/plain": [
       "<matplotlib.legend.Legend at 0x250bea68308>"
      ]
     },
     "execution_count": 13,
     "metadata": {},
     "output_type": "execute_result"
    },
    {
     "data": {
      "image/png": "[encoded data removed]",
      "text/plain": [
       "<Figure size 864x288 with 1 Axes>"
      ]
     },
     "metadata": {
      "needs_background": "light"
     },
     "output_type": "display_data"
    }
   ],
   "source": [
    "popular_movies=q_movies[['title', 'imdb_votes', 'imdb_rating', 'score']].reset_index(drop=True).head(5)\n",
    "plt.figure(figsize=(12,4))\n",
    "plt.barh(popular_movies['title'].head(6),popular_movies['score'].head(6), align='center',\n",
    "        color='skyblue')\n",
    "plt.gca().invert_yaxis()\n",
    "plt.xlabel('Movies')\n",
    "plt.ylabel('Popularity score')\n",
    "plt.title('Popular movies')\n",
    "plt.legend()"
   ]
  },
  {
   "cell_type": "markdown",
   "metadata": {},
   "source": [
    "# Content-Based Filtering (on story)"
   ]
  },
  {
   "cell_type": "code",
   "execution_count": 12,
   "metadata": {},
   "outputs": [
    {
     "data": {
      "text/plain": [
       "(916, 10490)"
      ]
     },
     "execution_count": 12,
     "metadata": {},
     "output_type": "execute_result"
    }
   ],
   "source": [
    "#Importing TfIdfVectorizer from scikit-learn\n",
    "from sklearn.feature_extraction.text import TfidfVectorizer\n",
    "\n",
    "#Defining a TF-IDF Vectorizer Object. Remove all english stop words such as 'the', 'a'\n",
    "tfidf = TfidfVectorizer(stop_words='english')\n",
    "\n",
    "#Replacing NaN with an empty string\n",
    "movie_dataset['story'] =movie_dataset['story'].fillna('')\n",
    "\n",
    "#Constructing the required TF-IDF matrix by fitting and transforming the data\n",
    "tfidf_matrix = tfidf.fit_transform(movie_dataset['story'])\n",
    "\n",
    "#Output the shape of tfidf_matrix\n",
    "tfidf_matrix.shape\n"
   ]
  },
  {
   "cell_type": "code",
   "execution_count": 13,
   "metadata": {},
   "outputs": [],
   "source": [
    "# Importing linear_kernel\n",
    "from sklearn.metrics.pairwise import linear_kernel\n",
    "\n",
    "# Computing the cosine similarity matrix\n",
    "cosine_sim = linear_kernel(tfidf_matrix, tfidf_matrix)"
   ]
  },
  {
   "cell_type": "code",
   "execution_count": 14,
   "metadata": {},
   "outputs": [
    {
     "data": {
      "text/html": [
       "<div>\n",
       "<style scoped>\n",
       "    .dataframe tbody tr th:only-of-type {\n",
       "        vertical-align: middle;\n",
       "    }\n",
       "\n",
       "    .dataframe tbody tr th {\n",
       "        vertical-align: top;\n",
       "    }\n",
       "\n",
       "    .dataframe thead th {\n",
       "        text-align: right;\n",
       "    }\n",
       "</style>\n",
       "<table border=\"1\" class=\"dataframe\">\n",
       "  <thead>\n",
       "    <tr style=\"text-align: right;\">\n",
       "      <th></th>\n",
       "      <th>0</th>\n",
       "    </tr>\n",
       "    <tr>\n",
       "      <th>title</th>\n",
       "      <th></th>\n",
       "    </tr>\n",
       "  </thead>\n",
       "  <tbody>\n",
       "    <tr>\n",
       "      <td>Uri: The Surgical Strike</td>\n",
       "      <td>0</td>\n",
       "    </tr>\n",
       "    <tr>\n",
       "      <td>Battalion 609</td>\n",
       "      <td>1</td>\n",
       "    </tr>\n",
       "    <tr>\n",
       "      <td>The Accidental Prime Minister (film)</td>\n",
       "      <td>2</td>\n",
       "    </tr>\n",
       "    <tr>\n",
       "      <td>Why Cheat India</td>\n",
       "      <td>3</td>\n",
       "    </tr>\n",
       "    <tr>\n",
       "      <td>Evening Shadows</td>\n",
       "      <td>4</td>\n",
       "    </tr>\n",
       "    <tr>\n",
       "      <td>Soni (film)</td>\n",
       "      <td>5</td>\n",
       "    </tr>\n",
       "    <tr>\n",
       "      <td>Fraud Saiyaan</td>\n",
       "      <td>6</td>\n",
       "    </tr>\n",
       "    <tr>\n",
       "      <td>Bombairiya</td>\n",
       "      <td>7</td>\n",
       "    </tr>\n",
       "    <tr>\n",
       "      <td>Manikarnika: The Queen of Jhansi</td>\n",
       "      <td>8</td>\n",
       "    </tr>\n",
       "    <tr>\n",
       "      <td>Thackeray (film)</td>\n",
       "      <td>9</td>\n",
       "    </tr>\n",
       "    <tr>\n",
       "      <td>Amavas</td>\n",
       "      <td>10</td>\n",
       "    </tr>\n",
       "    <tr>\n",
       "      <td>Gully Boy</td>\n",
       "      <td>11</td>\n",
       "    </tr>\n",
       "    <tr>\n",
       "      <td>Hum Chaar</td>\n",
       "      <td>12</td>\n",
       "    </tr>\n",
       "  </tbody>\n",
       "</table>\n",
       "</div>"
      ],
      "text/plain": [
       "                                       0\n",
       "title                                   \n",
       "Uri: The Surgical Strike               0\n",
       "Battalion 609                          1\n",
       "The Accidental Prime Minister (film)   2\n",
       "Why Cheat India                        3\n",
       "Evening Shadows                        4\n",
       "Soni (film)                            5\n",
       "Fraud Saiyaan                          6\n",
       "Bombairiya                             7\n",
       "Manikarnika: The Queen of Jhansi       8\n",
       "Thackeray (film)                       9\n",
       "Amavas                                10\n",
       "Gully Boy                             11\n",
       "Hum Chaar                             12"
      ]
     },
     "execution_count": 14,
     "metadata": {},
     "output_type": "execute_result"
    }
   ],
   "source": [
    "#Constructing a reverse map of indices and movie titles\n",
    "indices = pd.Series(movie_dataset.index, index=movie_dataset['title']).drop_duplicates()\n",
    "\n",
    "pd.DataFrame(indices).head(13)"
   ]
  },
  {
   "cell_type": "code",
   "execution_count": 15,
   "metadata": {},
   "outputs": [],
   "source": [
    "def get_recomendation(title,cosine_sim =cosine_sim ):\n",
    "    #Getting the index of the movie given its title\n",
    "    idx=indices[title]\n",
    "    #Getting the list of cosine similarity scores\n",
    "    sim_scores=list(enumerate(cosine_sim[idx]))\n",
    "    #sorting based on sim_score\n",
    "    sim_scores=sorted(sim_scores,key=lambda x:x[1],reverse=True)\n",
    "    # Getting the scores of the 10 most similar movies\n",
    "    sim_scores = sim_scores[1:11]\n",
    "    #Getting the  movies indices \n",
    "    sim_scores=[i[0] for i in sim_scores]\n",
    "     \n",
    "    return movie_dataset[['title','actors','imdb_votes','imdb_rating']].iloc[sim_scores]"
   ]
  },
  {
   "cell_type": "code",
   "execution_count": 16,
   "metadata": {},
   "outputs": [
    {
     "name": "stdout",
     "output_type": "stream",
     "text": [
      "Enter your favourite movie: Sarkar 3\n"
     ]
    },
    {
     "data": {
      "text/html": [
       "<div>\n",
       "<style scoped>\n",
       "    .dataframe tbody tr th:only-of-type {\n",
       "        vertical-align: middle;\n",
       "    }\n",
       "\n",
       "    .dataframe tbody tr th {\n",
       "        vertical-align: top;\n",
       "    }\n",
       "\n",
       "    .dataframe thead th {\n",
       "        text-align: right;\n",
       "    }\n",
       "</style>\n",
       "<table border=\"1\" class=\"dataframe\">\n",
       "  <thead>\n",
       "    <tr style=\"text-align: right;\">\n",
       "      <th></th>\n",
       "      <th>title</th>\n",
       "      <th>actors</th>\n",
       "    </tr>\n",
       "  </thead>\n",
       "  <tbody>\n",
       "    <tr>\n",
       "      <td>176</td>\n",
       "      <td>Aa Gaya Hero</td>\n",
       "      <td>Govinda|Richa Sharma|Poonam Pandey|Sweta Sharm...</td>\n",
       "    </tr>\n",
       "    <tr>\n",
       "      <td>160</td>\n",
       "      <td>Golmaal Again</td>\n",
       "      <td>Ajay Devgn|Arshad Warsi|Tusshar Kapoor|Shreyas...</td>\n",
       "    </tr>\n",
       "    <tr>\n",
       "      <td>472</td>\n",
       "      <td>Jai Ho (film)</td>\n",
       "      <td>Salman Khan|Daisy Shah|Tabu|Danny Denzongpa|Na...</td>\n",
       "    </tr>\n",
       "    <tr>\n",
       "      <td>208</td>\n",
       "      <td>Indu Sarkar</td>\n",
       "      <td>Kirti Kulhari|Tota Roy Chowdhury|Neil Nitin Mu...</td>\n",
       "    </tr>\n",
       "    <tr>\n",
       "      <td>220</td>\n",
       "      <td>Daddy (2017 film)</td>\n",
       "      <td>Arjun Rampal|Aishwarya Rajesh|Nishikant Kamat|...</td>\n",
       "    </tr>\n",
       "    <tr>\n",
       "      <td>457</td>\n",
       "      <td>Kis Kisko Pyaar Karoon</td>\n",
       "      <td>Kapil Sharma|Simran Kaur Mundi|Manjari Fadnnis...</td>\n",
       "    </tr>\n",
       "    <tr>\n",
       "      <td>675</td>\n",
       "      <td>Goliyon Ki Raasleela Ram-Leela</td>\n",
       "      <td>Ranveer Singh|Deepika Padukone|Supriya Pathak|...</td>\n",
       "    </tr>\n",
       "    <tr>\n",
       "      <td>528</td>\n",
       "      <td>Hate Story 2</td>\n",
       "      <td>Jay Bhanushali|Surveen Chawla|Sushant Singh|Si...</td>\n",
       "    </tr>\n",
       "    <tr>\n",
       "      <td>274</td>\n",
       "      <td>Jai Gangaajal</td>\n",
       "      <td>Priyanka Chopra|Prakash Jha|Manav Kaul|Ninad K...</td>\n",
       "    </tr>\n",
       "    <tr>\n",
       "      <td>391</td>\n",
       "      <td>Roy (film)</td>\n",
       "      <td>Arjun Rampal|Jacqueline Fernandez|Ranbir Kapoo...</td>\n",
       "    </tr>\n",
       "  </tbody>\n",
       "</table>\n",
       "</div>"
      ],
      "text/plain": [
       "                              title  \\\n",
       "176                    Aa Gaya Hero   \n",
       "160                   Golmaal Again   \n",
       "472                   Jai Ho (film)   \n",
       "208                     Indu Sarkar   \n",
       "220               Daddy (2017 film)   \n",
       "457          Kis Kisko Pyaar Karoon   \n",
       "675  Goliyon Ki Raasleela Ram-Leela   \n",
       "528                    Hate Story 2   \n",
       "274                   Jai Gangaajal   \n",
       "391                      Roy (film)   \n",
       "\n",
       "                                                actors  \n",
       "176  Govinda|Richa Sharma|Poonam Pandey|Sweta Sharm...  \n",
       "160  Ajay Devgn|Arshad Warsi|Tusshar Kapoor|Shreyas...  \n",
       "472  Salman Khan|Daisy Shah|Tabu|Danny Denzongpa|Na...  \n",
       "208  Kirti Kulhari|Tota Roy Chowdhury|Neil Nitin Mu...  \n",
       "220  Arjun Rampal|Aishwarya Rajesh|Nishikant Kamat|...  \n",
       "457  Kapil Sharma|Simran Kaur Mundi|Manjari Fadnnis...  \n",
       "675  Ranveer Singh|Deepika Padukone|Supriya Pathak|...  \n",
       "528  Jay Bhanushali|Surveen Chawla|Sushant Singh|Si...  \n",
       "274  Priyanka Chopra|Prakash Jha|Manav Kaul|Ninad K...  \n",
       "391  Arjun Rampal|Jacqueline Fernandez|Ranbir Kapoo...  "
      ]
     },
     "execution_count": 16,
     "metadata": {},
     "output_type": "execute_result"
    }
   ],
   "source": [
    "user_title=input('Enter your favourite movie: ')\n",
    "db=get_recomendation(user_title)\n",
    "db[['title','actors']]"
   ]
  },
  {
   "cell_type": "markdown",
   "metadata": {},
   "source": [
    "# Content-Based Filtering (actors)"
   ]
  },
  {
   "cell_type": "code",
   "execution_count": 17,
   "metadata": {},
   "outputs": [
    {
     "data": {
      "text/plain": [
       "(916, 4302)"
      ]
     },
     "execution_count": 17,
     "metadata": {},
     "output_type": "execute_result"
    }
   ],
   "source": [
    "#Importing TfIdfVectorizer from scikit-learn\n",
    "from sklearn.feature_extraction.text import TfidfVectorizer\n",
    "\n",
    "#Defining a TF-IDF Vectorizer Object. Remove all english stop words such as 'the', 'a'\n",
    "tfidf2 = TfidfVectorizer(stop_words='english')\n",
    "\n",
    "#Replacing NaN with an empty string\n",
    "movie_dataset['actors'] =movie_dataset['actors'].fillna('')\n",
    "\n",
    "#Constructing the required TF-IDF matrix by fitting and transforming the data\n",
    "tfidf_matrix2 = tfidf.fit_transform(movie_dataset['actors'])\n",
    "\n",
    "#Output the shape of tfidf_matrix\n",
    "tfidf_matrix2.shape"
   ]
  },
  {
   "cell_type": "code",
   "execution_count": 18,
   "metadata": {},
   "outputs": [],
   "source": [
    "# Importing linear_kernel\n",
    "from sklearn.metrics.pairwise import linear_kernel\n",
    "\n",
    "# Computing the cosine similarity matrix\n",
    "cosine_sim = linear_kernel(tfidf_matrix2, tfidf_matrix2)"
   ]
  },
  {
   "cell_type": "code",
   "execution_count": 19,
   "metadata": {},
   "outputs": [
    {
     "data": {
      "text/html": [
       "<div>\n",
       "<style scoped>\n",
       "    .dataframe tbody tr th:only-of-type {\n",
       "        vertical-align: middle;\n",
       "    }\n",
       "\n",
       "    .dataframe tbody tr th {\n",
       "        vertical-align: top;\n",
       "    }\n",
       "\n",
       "    .dataframe thead th {\n",
       "        text-align: right;\n",
       "    }\n",
       "</style>\n",
       "<table border=\"1\" class=\"dataframe\">\n",
       "  <thead>\n",
       "    <tr style=\"text-align: right;\">\n",
       "      <th></th>\n",
       "      <th>0</th>\n",
       "    </tr>\n",
       "    <tr>\n",
       "      <th>title</th>\n",
       "      <th></th>\n",
       "    </tr>\n",
       "  </thead>\n",
       "  <tbody>\n",
       "    <tr>\n",
       "      <td>Uri: The Surgical Strike</td>\n",
       "      <td>0</td>\n",
       "    </tr>\n",
       "    <tr>\n",
       "      <td>Battalion 609</td>\n",
       "      <td>1</td>\n",
       "    </tr>\n",
       "    <tr>\n",
       "      <td>The Accidental Prime Minister (film)</td>\n",
       "      <td>2</td>\n",
       "    </tr>\n",
       "    <tr>\n",
       "      <td>Why Cheat India</td>\n",
       "      <td>3</td>\n",
       "    </tr>\n",
       "    <tr>\n",
       "      <td>Evening Shadows</td>\n",
       "      <td>4</td>\n",
       "    </tr>\n",
       "    <tr>\n",
       "      <td>Soni (film)</td>\n",
       "      <td>5</td>\n",
       "    </tr>\n",
       "    <tr>\n",
       "      <td>Fraud Saiyaan</td>\n",
       "      <td>6</td>\n",
       "    </tr>\n",
       "    <tr>\n",
       "      <td>Bombairiya</td>\n",
       "      <td>7</td>\n",
       "    </tr>\n",
       "    <tr>\n",
       "      <td>Manikarnika: The Queen of Jhansi</td>\n",
       "      <td>8</td>\n",
       "    </tr>\n",
       "    <tr>\n",
       "      <td>Thackeray (film)</td>\n",
       "      <td>9</td>\n",
       "    </tr>\n",
       "    <tr>\n",
       "      <td>Amavas</td>\n",
       "      <td>10</td>\n",
       "    </tr>\n",
       "    <tr>\n",
       "      <td>Gully Boy</td>\n",
       "      <td>11</td>\n",
       "    </tr>\n",
       "    <tr>\n",
       "      <td>Hum Chaar</td>\n",
       "      <td>12</td>\n",
       "    </tr>\n",
       "  </tbody>\n",
       "</table>\n",
       "</div>"
      ],
      "text/plain": [
       "                                       0\n",
       "title                                   \n",
       "Uri: The Surgical Strike               0\n",
       "Battalion 609                          1\n",
       "The Accidental Prime Minister (film)   2\n",
       "Why Cheat India                        3\n",
       "Evening Shadows                        4\n",
       "Soni (film)                            5\n",
       "Fraud Saiyaan                          6\n",
       "Bombairiya                             7\n",
       "Manikarnika: The Queen of Jhansi       8\n",
       "Thackeray (film)                       9\n",
       "Amavas                                10\n",
       "Gully Boy                             11\n",
       "Hum Chaar                             12"
      ]
     },
     "execution_count": 19,
     "metadata": {},
     "output_type": "execute_result"
    }
   ],
   "source": [
    "#Constructing a reverse map of indices and movie titles\n",
    "indices = pd.Series(movie_dataset.index, index=movie_dataset['title']).drop_duplicates()\n",
    "\n",
    "pd.DataFrame(indices).head(13)"
   ]
  },
  {
   "cell_type": "code",
   "execution_count": 20,
   "metadata": {},
   "outputs": [],
   "source": [
    "def get_recomendation2(title,cosine_sim =cosine_sim ):\n",
    "    #Getting the index of the movie given its title\n",
    "    idx=indices[title]\n",
    "    #Getting the list of cosine similarity scores\n",
    "    sim_scores=list(enumerate(cosine_sim[idx]))\n",
    "    #sorting based on sim_score\n",
    "    sim_scores=sorted(sim_scores,key=lambda x:x[1],reverse=True)\n",
    "    # Getting the scores of the 10 most similar movies\n",
    "    sim_scores = sim_scores[1:11]\n",
    "    #Getting the  movies indices \n",
    "    sim_scores=[i[0] for i in sim_scores]\n",
    "     \n",
    "    return movie_dataset[['title','actors','imdb_votes','imdb_rating']].iloc[sim_scores]"
   ]
  },
  {
   "cell_type": "code",
   "execution_count": 21,
   "metadata": {},
   "outputs": [
    {
     "name": "stdout",
     "output_type": "stream",
     "text": [
      "Enter your favourite movie: Sarkar 3\n",
      "Actors of  Sarkar 3\n",
      "Amitabh Bachchan|Yami Gautam|Abhishek Bachchan|Jackie Shroff|Manoj Bajpayee|Amit Sadh|Rohini Hattangadi|Ronit Roy|Supriya Pathak|Bharat Dabholkar|Parag Tyagi|Bajrangbali Singh|\n",
      "Recommended movies: \n"
     ]
    },
    {
     "data": {
      "text/html": [
       "<div>\n",
       "<style scoped>\n",
       "    .dataframe tbody tr th:only-of-type {\n",
       "        vertical-align: middle;\n",
       "    }\n",
       "\n",
       "    .dataframe tbody tr th {\n",
       "        vertical-align: top;\n",
       "    }\n",
       "\n",
       "    .dataframe thead th {\n",
       "        text-align: right;\n",
       "    }\n",
       "</style>\n",
       "<table border=\"1\" class=\"dataframe\">\n",
       "  <thead>\n",
       "    <tr style=\"text-align: right;\">\n",
       "      <th></th>\n",
       "      <th>title</th>\n",
       "      <th>actors</th>\n",
       "    </tr>\n",
       "  </thead>\n",
       "  <tbody>\n",
       "    <tr>\n",
       "      <td>440</td>\n",
       "      <td>All Is Well (2015 film)</td>\n",
       "      <td>Rishi Kapoor|Abhishek Bachchan|Asin|Supriya Pa...</td>\n",
       "    </tr>\n",
       "    <tr>\n",
       "      <td>756</td>\n",
       "      <td>Bol Bachchan</td>\n",
       "      <td>Amitabh Bachchan|Ajay Devgn|Abhishek Bachchan|...</td>\n",
       "    </tr>\n",
       "    <tr>\n",
       "      <td>164</td>\n",
       "      <td>Kaabil</td>\n",
       "      <td>Hrithik Roshan|Yami Gautam|Ronit Roy|Rohit Roy...</td>\n",
       "    </tr>\n",
       "    <tr>\n",
       "      <td>454</td>\n",
       "      <td>Jazbaa</td>\n",
       "      <td>Aishwarya Rai Bachchan|Irrfan Khan|Shabana Azm...</td>\n",
       "    </tr>\n",
       "    <tr>\n",
       "      <td>431</td>\n",
       "      <td>Guddu Rangeela</td>\n",
       "      <td>Arshad Warsi|Amit Sadh|Ronit Roy|Aditi Rao Hyd...</td>\n",
       "    </tr>\n",
       "    <tr>\n",
       "      <td>880</td>\n",
       "      <td>Raavan</td>\n",
       "      <td>Abhishek Bachchan|Aishwarya Rai Bachchan|Govin...</td>\n",
       "    </tr>\n",
       "    <tr>\n",
       "      <td>809</td>\n",
       "      <td>Phhir</td>\n",
       "      <td>Rajniesh Duggall|Roshni Chopra|Monica|Adah Sha...</td>\n",
       "    </tr>\n",
       "    <tr>\n",
       "      <td>392</td>\n",
       "      <td>Badlapur (film)</td>\n",
       "      <td>Varun Dhawan|Nawazuddin Siddiqui|Yami Gautam|H...</td>\n",
       "    </tr>\n",
       "    <tr>\n",
       "      <td>810</td>\n",
       "      <td>Aarakshan</td>\n",
       "      <td>Amitabh Bachchan|Saif Ali Khan|Manoj Bajpayee|...</td>\n",
       "    </tr>\n",
       "    <tr>\n",
       "      <td>843</td>\n",
       "      <td>Veer (2010 film)</td>\n",
       "      <td>Salman Khan|Jackie Shroff|Mithun Chakraborty|Z...</td>\n",
       "    </tr>\n",
       "  </tbody>\n",
       "</table>\n",
       "</div>"
      ],
      "text/plain": [
       "                       title  \\\n",
       "440  All Is Well (2015 film)   \n",
       "756             Bol Bachchan   \n",
       "164                   Kaabil   \n",
       "454                   Jazbaa   \n",
       "431           Guddu Rangeela   \n",
       "880                   Raavan   \n",
       "809                    Phhir   \n",
       "392          Badlapur (film)   \n",
       "810                Aarakshan   \n",
       "843         Veer (2010 film)   \n",
       "\n",
       "                                                actors  \n",
       "440  Rishi Kapoor|Abhishek Bachchan|Asin|Supriya Pa...  \n",
       "756  Amitabh Bachchan|Ajay Devgn|Abhishek Bachchan|...  \n",
       "164  Hrithik Roshan|Yami Gautam|Ronit Roy|Rohit Roy...  \n",
       "454  Aishwarya Rai Bachchan|Irrfan Khan|Shabana Azm...  \n",
       "431  Arshad Warsi|Amit Sadh|Ronit Roy|Aditi Rao Hyd...  \n",
       "880  Abhishek Bachchan|Aishwarya Rai Bachchan|Govin...  \n",
       "809  Rajniesh Duggall|Roshni Chopra|Monica|Adah Sha...  \n",
       "392  Varun Dhawan|Nawazuddin Siddiqui|Yami Gautam|H...  \n",
       "810  Amitabh Bachchan|Saif Ali Khan|Manoj Bajpayee|...  \n",
       "843  Salman Khan|Jackie Shroff|Mithun Chakraborty|Z...  "
      ]
     },
     "execution_count": 21,
     "metadata": {},
     "output_type": "execute_result"
    }
   ],
   "source": [
    "user_title=input('Enter your favourite movie: ')\n",
    "i=indices[user_title]\n",
    "print('Actors of ',user_title)\n",
    "print(movie_dataset.loc[i]['actors'])\n",
    "print('Recommended movies: ')\n",
    "ds=get_recomendation2(user_title)\n",
    "ds[['title','actors']]"
   ]
  },
  {
   "cell_type": "code",
   "execution_count": 22,
   "metadata": {},
   "outputs": [],
   "source": [
    "csdf=pd.DataFrame(cosine_sim)\n",
    "csdf.to_csv('D:\\\\Madhvik 05\\\\Industrial training files\\\\cosine_sim_matrix.csv')"
   ]
  },
  {
   "cell_type": "code",
   "execution_count": 23,
   "metadata": {},
   "outputs": [
    {
     "name": "stdout",
     "output_type": "stream",
     "text": [
      "  (0, 472)\t0.16436077983698943\n",
      "  (0, 1744)\t0.23488010813354218\n",
      "  (0, 125)\t0.23488010813354218\n",
      "  (0, 106)\t0.1891990218031271\n",
      "  (0, 1136)\t0.2215192468857929\n",
      "  (0, 3678)\t0.20468655242096678\n",
      "  (0, 4240)\t0.20468655242096678\n",
      "  (0, 311)\t0.26456748719010603\n",
      "  (0, 3127)\t0.2215192468857929\n",
      "  (0, 3299)\t0.1986787037205853\n",
      "  (0, 3835)\t0.2215192468857929\n",
      "  (0, 2730)\t0.2215192468857929\n",
      "  (0, 2182)\t0.1891990218031271\n",
      "  (0, 3141)\t0.1986787037205853\n",
      "  (0, 1538)\t0.1986787037205853\n",
      "  (0, 1784)\t0.08231715459964316\n",
      "  (0, 2978)\t0.1684851480080099\n",
      "  (0, 1978)\t0.18531784247283598\n",
      "  (0, 1923)\t0.18531784247283598\n",
      "  (0, 1220)\t0.15586481092097312\n",
      "  (0, 4224)\t0.17583816055537774\n",
      "  (0, 2962)\t0.18184600925575925\n",
      "  (0, 2370)\t0.16436077983698943\n",
      "  (0, 3068)\t0.15299761739017018\n",
      "  (0, 2731)\t0.15165245354318382\n",
      "  :\t:\n",
      "  (914, 2208)\t0.18412660786597856\n",
      "  (914, 2129)\t0.1629597875043416\n",
      "  (914, 188)\t0.15798484749271385\n",
      "  (914, 570)\t0.1952956153370429\n",
      "  (914, 2702)\t0.13542551040123424\n",
      "  (915, 3753)\t0.32528040570538325\n",
      "  (915, 1921)\t0.2751458600083241\n",
      "  (915, 3032)\t0.3067772365703866\n",
      "  (915, 3023)\t0.268111281584482\n",
      "  (915, 2986)\t0.23647990502241953\n",
      "  (915, 1014)\t0.23647990502241953\n",
      "  (915, 2563)\t0.18422244492349893\n",
      "  (915, 2906)\t0.19598832939035585\n",
      "  (915, 3165)\t0.17240944178430667\n",
      "  (915, 79)\t0.18527155848601595\n",
      "  (915, 2959)\t0.22761970595241834\n",
      "  (915, 2653)\t0.19875489945713318\n",
      "  (915, 419)\t0.19735065235056481\n",
      "  (915, 1985)\t0.1424080395661469\n",
      "  (915, 114)\t0.23647990502241953\n",
      "  (915, 140)\t0.18857187066184367\n",
      "  (915, 3642)\t0.21135823019883324\n",
      "  (915, 4217)\t0.1933799377492024\n",
      "  (915, 1889)\t0.1678421901903637\n",
      "  (915, 1784)\t0.22799851087824746\n"
     ]
    }
   ],
   "source": [
    "print(tfidf_matrix2)"
   ]
  },
  {
   "cell_type": "code",
   "execution_count": 24,
   "metadata": {},
   "outputs": [],
   "source": [
    "cvtdf=pd.DataFrame(tfidf_matrix2)"
   ]
  },
  {
   "cell_type": "code",
   "execution_count": 25,
   "metadata": {},
   "outputs": [],
   "source": [
    "cvtdf.to_csv('D:\\\\Madhvik 05\\\\Industrial training files\\\\tfidf.csv')"
   ]
  },
  {
   "cell_type": "markdown",
   "metadata": {},
   "source": [
    "# Hybrid recommendation Model(Actor x Popularity)"
   ]
  },
  {
   "cell_type": "code",
   "execution_count": 26,
   "metadata": {},
   "outputs": [],
   "source": [
    "# This hybrid model recommends movies based on content(genre) and popularity combined\n",
    "def hybridmodel():\n",
    "    actor_based_movie_dataset=get_recomendation2(user_title)\n",
    "    actor_based_movie_dataset['score'] = actor_based_movie_dataset.apply(weighted_rating, axis=1)\n",
    "    #Sorting movies based on score calculated above\n",
    "    hybrid_dataset = actor_based_movie_dataset.sort_values('score', ascending=False)\n",
    "    return hybrid_dataset[['title', 'imdb_votes', 'imdb_rating', 'score']].reset_index(drop=True).head(10)"
   ]
  },
  {
   "cell_type": "code",
   "execution_count": 30,
   "metadata": {},
   "outputs": [
    {
     "name": "stdout",
     "output_type": "stream",
     "text": [
      "Enter your favourite movie: Uri: The Surgical Strike\n",
      "Actors of  Uri: The Surgical Strike\n",
      "Vicky Kaushal|Paresh Rawal|Mohit Raina|Yami Gautam|Kirti Kulhari|Rajit Kapoor|Ivan Rodrigues|Manasi Parekh|Swaroop Sampat|Riva Arora|Yogesh Soman|Fareed Ahmed|Akashdeep Arora|Kallol Banerjee|\n",
      "Recommended movies: \n"
     ]
    },
    {
     "data": {
      "text/html": [
       "<div>\n",
       "<style scoped>\n",
       "    .dataframe tbody tr th:only-of-type {\n",
       "        vertical-align: middle;\n",
       "    }\n",
       "\n",
       "    .dataframe tbody tr th {\n",
       "        vertical-align: top;\n",
       "    }\n",
       "\n",
       "    .dataframe thead th {\n",
       "        text-align: right;\n",
       "    }\n",
       "</style>\n",
       "<table border=\"1\" class=\"dataframe\">\n",
       "  <thead>\n",
       "    <tr style=\"text-align: right;\">\n",
       "      <th></th>\n",
       "      <th>title</th>\n",
       "      <th>imdb_votes</th>\n",
       "      <th>imdb_rating</th>\n",
       "      <th>score</th>\n",
       "    </tr>\n",
       "  </thead>\n",
       "  <tbody>\n",
       "    <tr>\n",
       "      <td>0</td>\n",
       "      <td>Sooper Se Ooper</td>\n",
       "      <td>156.0</td>\n",
       "      <td>4.3</td>\n",
       "      <td>5903.611483</td>\n",
       "    </tr>\n",
       "    <tr>\n",
       "      <td>1</td>\n",
       "      <td>Daas Dev</td>\n",
       "      <td>205.0</td>\n",
       "      <td>5.1</td>\n",
       "      <td>5886.424741</td>\n",
       "    </tr>\n",
       "    <tr>\n",
       "      <td>2</td>\n",
       "      <td>Bala (2019 film)</td>\n",
       "      <td>1369.0</td>\n",
       "      <td>8.2</td>\n",
       "      <td>5505.776563</td>\n",
       "    </tr>\n",
       "    <tr>\n",
       "      <td>3</td>\n",
       "      <td>Dharam Sankat Mein</td>\n",
       "      <td>1822.0</td>\n",
       "      <td>6.2</td>\n",
       "      <td>5370.426244</td>\n",
       "    </tr>\n",
       "    <tr>\n",
       "      <td>4</td>\n",
       "      <td>Rann (film)</td>\n",
       "      <td>2200.0</td>\n",
       "      <td>6.9</td>\n",
       "      <td>5262.679335</td>\n",
       "    </tr>\n",
       "    <tr>\n",
       "      <td>5</td>\n",
       "      <td>Batti Gul Meter Chalu</td>\n",
       "      <td>4169.0</td>\n",
       "      <td>6.1</td>\n",
       "      <td>4764.356237</td>\n",
       "    </tr>\n",
       "    <tr>\n",
       "      <td>6</td>\n",
       "      <td>Ki &amp; Ka</td>\n",
       "      <td>4853.0</td>\n",
       "      <td>5.8</td>\n",
       "      <td>4612.610321</td>\n",
       "    </tr>\n",
       "    <tr>\n",
       "      <td>7</td>\n",
       "      <td>Mom (film)</td>\n",
       "      <td>7355.0</td>\n",
       "      <td>7.3</td>\n",
       "      <td>4132.001007</td>\n",
       "    </tr>\n",
       "    <tr>\n",
       "      <td>8</td>\n",
       "      <td>Vicky Donor</td>\n",
       "      <td>36545.0</td>\n",
       "      <td>7.8</td>\n",
       "      <td>1867.040407</td>\n",
       "    </tr>\n",
       "    <tr>\n",
       "      <td>9</td>\n",
       "      <td>Sanju</td>\n",
       "      <td>42718.0</td>\n",
       "      <td>7.8</td>\n",
       "      <td>1673.571290</td>\n",
       "    </tr>\n",
       "  </tbody>\n",
       "</table>\n",
       "</div>"
      ],
      "text/plain": [
       "                   title  imdb_votes  imdb_rating        score\n",
       "0        Sooper Se Ooper       156.0          4.3  5903.611483\n",
       "1               Daas Dev       205.0          5.1  5886.424741\n",
       "2       Bala (2019 film)      1369.0          8.2  5505.776563\n",
       "3     Dharam Sankat Mein      1822.0          6.2  5370.426244\n",
       "4            Rann (film)      2200.0          6.9  5262.679335\n",
       "5  Batti Gul Meter Chalu      4169.0          6.1  4764.356237\n",
       "6                Ki & Ka      4853.0          5.8  4612.610321\n",
       "7             Mom (film)      7355.0          7.3  4132.001007\n",
       "8            Vicky Donor     36545.0          7.8  1867.040407\n",
       "9                  Sanju     42718.0          7.8  1673.571290"
      ]
     },
     "execution_count": 30,
     "metadata": {},
     "output_type": "execute_result"
    }
   ],
   "source": [
    "user_title=input('Enter your favourite movie: ')\n",
    "i=indices[user_title]\n",
    "print('Actors of ',user_title)\n",
    "print(movie_dataset.loc[i]['actors'])\n",
    "print('Recommended movies: ')\n",
    "hybridmodel()"
   ]
  },
  {
   "cell_type": "markdown",
   "metadata": {},
   "source": [
    "# Hybrid recommendation Model(Story x Popularity)"
   ]
  },
  {
   "cell_type": "code",
   "execution_count": 28,
   "metadata": {},
   "outputs": [],
   "source": [
    "# This hybrid model recommends movies based on content(story) and popularity combined\n",
    "def hybridmodel2():\n",
    "    story_based_movie_dataset=get_recomendation(user_title)\n",
    "    story_based_movie_dataset['score'] = story_based_movie_dataset.apply(weighted_rating, axis=1)\n",
    "    #Sorting movies based on score calculated above\n",
    "    hybrid_dataset = story_based_movie_dataset.sort_values('score', ascending=False)\n",
    "    return hybrid_dataset[['title', 'imdb_votes', 'imdb_rating', 'score']].reset_index(drop=True).head(10)"
   ]
  },
  {
   "cell_type": "code",
   "execution_count": 29,
   "metadata": {},
   "outputs": [
    {
     "name": "stdout",
     "output_type": "stream",
     "text": [
      "Enter your favourite movie: Uri: The Surgical Strike\n",
      "Actors of  Uri: The Surgical Strike\n",
      "Vicky Kaushal|Paresh Rawal|Mohit Raina|Yami Gautam|Kirti Kulhari|Rajit Kapoor|Ivan Rodrigues|Manasi Parekh|Swaroop Sampat|Riva Arora|Yogesh Soman|Fareed Ahmed|Akashdeep Arora|Kallol Banerjee|\n",
      "Recommended movies: \n"
     ]
    },
    {
     "data": {
      "text/html": [
       "<div>\n",
       "<style scoped>\n",
       "    .dataframe tbody tr th:only-of-type {\n",
       "        vertical-align: middle;\n",
       "    }\n",
       "\n",
       "    .dataframe tbody tr th {\n",
       "        vertical-align: top;\n",
       "    }\n",
       "\n",
       "    .dataframe thead th {\n",
       "        text-align: right;\n",
       "    }\n",
       "</style>\n",
       "<table border=\"1\" class=\"dataframe\">\n",
       "  <thead>\n",
       "    <tr style=\"text-align: right;\">\n",
       "      <th></th>\n",
       "      <th>title</th>\n",
       "      <th>imdb_votes</th>\n",
       "      <th>imdb_rating</th>\n",
       "      <th>score</th>\n",
       "    </tr>\n",
       "  </thead>\n",
       "  <tbody>\n",
       "    <tr>\n",
       "      <td>0</td>\n",
       "      <td>Sukhmani: Hope for Life</td>\n",
       "      <td>26.0</td>\n",
       "      <td>5.7</td>\n",
       "      <td>5949.728093</td>\n",
       "    </tr>\n",
       "    <tr>\n",
       "      <td>1</td>\n",
       "      <td>Battalion 609</td>\n",
       "      <td>73.0</td>\n",
       "      <td>4.1</td>\n",
       "      <td>5932.969919</td>\n",
       "    </tr>\n",
       "    <tr>\n",
       "      <td>2</td>\n",
       "      <td>Raag Desh (film)</td>\n",
       "      <td>341.0</td>\n",
       "      <td>8.3</td>\n",
       "      <td>5839.287492</td>\n",
       "    </tr>\n",
       "    <tr>\n",
       "      <td>3</td>\n",
       "      <td>Lamhaa</td>\n",
       "      <td>594.0</td>\n",
       "      <td>5.0</td>\n",
       "      <td>5753.396778</td>\n",
       "    </tr>\n",
       "    <tr>\n",
       "      <td>4</td>\n",
       "      <td>Ghost (2019 film)</td>\n",
       "      <td>1379.0</td>\n",
       "      <td>8.7</td>\n",
       "      <td>5502.757909</td>\n",
       "    </tr>\n",
       "    <tr>\n",
       "      <td>5</td>\n",
       "      <td>Ankur Arora Murder Case</td>\n",
       "      <td>1406.0</td>\n",
       "      <td>6.5</td>\n",
       "      <td>5494.349929</td>\n",
       "    </tr>\n",
       "    <tr>\n",
       "      <td>6</td>\n",
       "      <td>Hind Ka Napak Ko Jawab: MSG Lion Heart 2</td>\n",
       "      <td>3960.0</td>\n",
       "      <td>6.8</td>\n",
       "      <td>4812.849646</td>\n",
       "    </tr>\n",
       "    <tr>\n",
       "      <td>7</td>\n",
       "      <td>Aligarh (film)</td>\n",
       "      <td>4873.0</td>\n",
       "      <td>7.8</td>\n",
       "      <td>4608.774222</td>\n",
       "    </tr>\n",
       "    <tr>\n",
       "      <td>8</td>\n",
       "      <td>D-Day (2013 film)</td>\n",
       "      <td>8421.0</td>\n",
       "      <td>7.2</td>\n",
       "      <td>3956.270020</td>\n",
       "    </tr>\n",
       "    <tr>\n",
       "      <td>9</td>\n",
       "      <td>Baby (2015 Hindi film)</td>\n",
       "      <td>49426.0</td>\n",
       "      <td>8.0</td>\n",
       "      <td>1504.496519</td>\n",
       "    </tr>\n",
       "  </tbody>\n",
       "</table>\n",
       "</div>"
      ],
      "text/plain": [
       "                                      title  imdb_votes  imdb_rating  \\\n",
       "0                   Sukhmani: Hope for Life        26.0          5.7   \n",
       "1                             Battalion 609        73.0          4.1   \n",
       "2                          Raag Desh (film)       341.0          8.3   \n",
       "3                                    Lamhaa       594.0          5.0   \n",
       "4                         Ghost (2019 film)      1379.0          8.7   \n",
       "5                   Ankur Arora Murder Case      1406.0          6.5   \n",
       "6  Hind Ka Napak Ko Jawab: MSG Lion Heart 2      3960.0          6.8   \n",
       "7                            Aligarh (film)      4873.0          7.8   \n",
       "8                         D-Day (2013 film)      8421.0          7.2   \n",
       "9                    Baby (2015 Hindi film)     49426.0          8.0   \n",
       "\n",
       "         score  \n",
       "0  5949.728093  \n",
       "1  5932.969919  \n",
       "2  5839.287492  \n",
       "3  5753.396778  \n",
       "4  5502.757909  \n",
       "5  5494.349929  \n",
       "6  4812.849646  \n",
       "7  4608.774222  \n",
       "8  3956.270020  \n",
       "9  1504.496519  "
      ]
     },
     "execution_count": 29,
     "metadata": {},
     "output_type": "execute_result"
    }
   ],
   "source": [
    "user_title=input('Enter your favourite movie: ')\n",
    "i=indices[user_title]\n",
    "print('Actors of ',user_title)\n",
    "print(movie_dataset.loc[i]['actors'])\n",
    "print('Recommended movies: ')\n",
    "hybridmodel2()"
   ]
  },
  {
   "cell_type": "code",
   "execution_count": null,
   "metadata": {},
   "outputs": [],
   "source": []
  }
 ],
 "metadata": {
  "kernelspec": {
   "display_name": "Python 3",
   "language": "python",
   "name": "python3"
  },
  "language_info": {
   "codemirror_mode": {
    "name": "ipython",
    "version": 3
   },
   "file_extension": ".py",
   "mimetype": "text/x-python",
   "name": "python",
   "nbconvert_exporter": "python",
   "pygments_lexer": "ipython3",
   "version": "3.7.4"
  }
 },
 "nbformat": 4,
 "nbformat_minor": 2
}
