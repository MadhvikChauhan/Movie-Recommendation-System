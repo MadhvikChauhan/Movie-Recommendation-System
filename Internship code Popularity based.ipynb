{
 "cells": [
  {
   "cell_type": "markdown",
   "metadata": {},
   "source": [
    "# Importing Libraries"
   ]
  },
  {
   "cell_type": "code",
   "execution_count": 1,
   "metadata": {},
   "outputs": [],
   "source": [
    "import pandas as pd #for reading the csv files\n",
    "import numpy as np #for implementing matrix operations\n",
    "import matplotlib.pyplot as plt #To visualize data graphically"
   ]
  },
  {
   "cell_type": "markdown",
   "metadata": {},
   "source": [
    "# Defining File Locations"
   ]
  },
  {
   "cell_type": "code",
   "execution_count": 2,
   "metadata": {},
   "outputs": [],
   "source": [
    "location1='D:\\\\Madhvik 05\\\\Industrial training files\\\\bollywood_2010-2019.csv'\n",
    "location2='D:\\\\Madhvik 05\\\\Industrial training files\\\\bollywood_meta_2010-2019.csv'\n",
    "location3='D:\\\\Madhvik 05\\\\Industrial training files\\\\bollywood_ratings_2010-2019.csv'\n",
    "location4='D:\\\\Madhvik 05\\\\Industrial training files\\\\bollywood_text_2010-2019.csv'"
   ]
  },
  {
   "cell_type": "markdown",
   "metadata": {},
   "source": [
    "# Reading CSV files"
   ]
  },
  {
   "cell_type": "code",
   "execution_count": 3,
   "metadata": {},
   "outputs": [
    {
     "data": {
      "text/plain": [
       "(980, 4)"
      ]
     },
     "execution_count": 3,
     "metadata": {},
     "output_type": "execute_result"
    }
   ],
   "source": [
    "movie_title=pd.read_csv(location1)\n",
    "movie_meta=pd.read_csv(location2)\n",
    "movie_ratings=pd.read_csv(location3)\n",
    "movie_text=pd.read_csv(location4)\n",
    "movie_title.shape"
   ]
  },
  {
   "cell_type": "markdown",
   "metadata": {},
   "source": [
    "# Data preprocessing"
   ]
  },
  {
   "cell_type": "code",
   "execution_count": 4,
   "metadata": {},
   "outputs": [],
   "source": [
    "#movie_dataframe=pd.DataFrame(movie_file)\n",
    "#credit_dataframe=pd.DataFrame(credit_file)"
   ]
  },
  {
   "cell_type": "code",
   "execution_count": 5,
   "metadata": {},
   "outputs": [
    {
     "data": {
      "text/plain": [
       "(934, 18)"
      ]
     },
     "execution_count": 5,
     "metadata": {},
     "output_type": "execute_result"
    }
   ],
   "source": [
    "movie_dataset=movie_title.merge(movie_ratings,on='imdb_id')\n",
    "movie_dataset=movie_dataset.merge(movie_meta,on='imdb_id')\n",
    "movie_dataset=movie_dataset.merge(movie_text,on='imdb_id')\n",
    "movie_dataset.to_csv('D:\\\\Madhvik 05\\\\Industrial training files\\\\save_bollywood_movie_file.csv')\n",
    "movie_dataset.shape"
   ]
  },
  {
   "cell_type": "code",
   "execution_count": 6,
   "metadata": {},
   "outputs": [
    {
     "data": {
      "text/plain": [
       "Index(['title', 'imdb_id', 'poster_path', 'wiki_link', 'imdb_rating',\n",
       "       'imdb_votes', 'is_adult', 'year_of_release', 'runtime', 'genres',\n",
       "       'story', 'summary', 'tagline', 'actors', 'wins_nominations',\n",
       "       'release_date'],\n",
       "      dtype='object')"
      ]
     },
     "execution_count": 6,
     "metadata": {},
     "output_type": "execute_result"
    }
   ],
   "source": [
    "movie_dataset.drop_duplicates(keep='first',inplace=True)\n",
    "movie_dataset.drop(['title_y','original_title'],axis=1,inplace=True)\n",
    "movie_dataset.rename(columns={'title_x':'title'},inplace=True)\n",
    "movie_dataset.columns\n"
   ]
  },
  {
   "cell_type": "code",
   "execution_count": 7,
   "metadata": {},
   "outputs": [
    {
     "name": "stdout",
     "output_type": "stream",
     "text": [
      "mean votes= 5959.035437430786\n",
      "min votes=  16604.600000000006\n"
     ]
    },
    {
     "data": {
      "text/plain": [
       "(91, 16)"
      ]
     },
     "execution_count": 7,
     "metadata": {},
     "output_type": "execute_result"
    }
   ],
   "source": [
    "mean_votes= movie_dataset['imdb_votes'].mean()\n",
    "print(\"mean votes=\",mean_votes)\n",
    "min_votes= movie_dataset['imdb_votes'].quantile(0.9)\n",
    "#Selecting the movies that are having votes greater than 90th percentile\n",
    "q_movies = movie_dataset.loc[movie_dataset['imdb_votes'] >= min_votes]\n",
    "print(\"min votes= \",min_votes)\n",
    "q_movies.shape\n",
    "\n"
   ]
  },
  {
   "cell_type": "markdown",
   "metadata": {},
   "source": [
    "# Defining IMDB weighted average rating function"
   ]
  },
  {
   "cell_type": "code",
   "execution_count": 8,
   "metadata": {},
   "outputs": [
    {
     "name": "stderr",
     "output_type": "stream",
     "text": [
      "C:\\Anaconda\\lib\\site-packages\\ipykernel_launcher.py:6: SettingWithCopyWarning: \n",
      "A value is trying to be set on a copy of a slice from a DataFrame.\n",
      "Try using .loc[row_indexer,col_indexer] = value instead\n",
      "\n",
      "See the caveats in the documentation: http://pandas.pydata.org/pandas-docs/stable/user_guide/indexing.html#returning-a-view-versus-a-copy\n",
      "  \n"
     ]
    }
   ],
   "source": [
    "def weighted_rating(x, m=min_votes, C=mean_votes):\n",
    "    v = x['imdb_votes']\n",
    "    R = x['imdb_rating']\n",
    "    return (v/(v+m) * R) + (m/(m+v) * C)\n",
    "    \n",
    "q_movies['score'] = q_movies.apply(weighted_rating, axis=1)\n",
    " \n",
    " \n",
    "#Sorting movies based on score calculated above\n",
    "q_movies = q_movies.sort_values('score', ascending=False)\n",
    "\n",
    "#Printing the top 15 movies\n",
    "#q_movies[['original_title', 'vote_count', 'vote_average', 'score']].reset_index(drop=True).head(10)\n"
   ]
  },
  {
   "cell_type": "code",
   "execution_count": 9,
   "metadata": {},
   "outputs": [],
   "source": [
    "q_movies.to_csv('D:\\\\Madhvik 05\\\\Industrial training files\\\\save_bollywood_movie_file_with_score.csv')"
   ]
  },
  {
   "cell_type": "code",
   "execution_count": 10,
   "metadata": {},
   "outputs": [
    {
     "data": {
      "text/html": [
       "<div>\n",
       "<style scoped>\n",
       "    .dataframe tbody tr th:only-of-type {\n",
       "        vertical-align: middle;\n",
       "    }\n",
       "\n",
       "    .dataframe tbody tr th {\n",
       "        vertical-align: top;\n",
       "    }\n",
       "\n",
       "    .dataframe thead th {\n",
       "        text-align: right;\n",
       "    }\n",
       "</style>\n",
       "<table border=\"1\" class=\"dataframe\">\n",
       "  <thead>\n",
       "    <tr style=\"text-align: right;\">\n",
       "      <th></th>\n",
       "      <th>title</th>\n",
       "      <th>imdb_votes</th>\n",
       "      <th>imdb_rating</th>\n",
       "      <th>score</th>\n",
       "    </tr>\n",
       "  </thead>\n",
       "  <tbody>\n",
       "    <tr>\n",
       "      <td>0</td>\n",
       "      <td>Manjhi – The Mountain Man</td>\n",
       "      <td>16622.0</td>\n",
       "      <td>8.0</td>\n",
       "      <td>2981.959509</td>\n",
       "    </tr>\n",
       "    <tr>\n",
       "      <td>1</td>\n",
       "      <td>Goliyon Ki Raasleela Ram-Leela</td>\n",
       "      <td>17246.0</td>\n",
       "      <td>6.4</td>\n",
       "      <td>2926.322553</td>\n",
       "    </tr>\n",
       "    <tr>\n",
       "      <td>2</td>\n",
       "      <td>Jab Harry Met Sejal</td>\n",
       "      <td>17317.0</td>\n",
       "      <td>5.3</td>\n",
       "      <td>2919.649425</td>\n",
       "    </tr>\n",
       "    <tr>\n",
       "      <td>3</td>\n",
       "      <td>Sonu Ke Titu Ki Sweety</td>\n",
       "      <td>17378.0</td>\n",
       "      <td>7.1</td>\n",
       "      <td>2915.338545</td>\n",
       "    </tr>\n",
       "    <tr>\n",
       "      <td>4</td>\n",
       "      <td>Ugly (film)</td>\n",
       "      <td>17483.0</td>\n",
       "      <td>8.1</td>\n",
       "      <td>2906.893185</td>\n",
       "    </tr>\n",
       "    <tr>\n",
       "      <td>5</td>\n",
       "      <td>Secret Superstar</td>\n",
       "      <td>17698.0</td>\n",
       "      <td>7.9</td>\n",
       "      <td>2888.621096</td>\n",
       "    </tr>\n",
       "    <tr>\n",
       "      <td>6</td>\n",
       "      <td>Parmanu: The Story of Pokhran</td>\n",
       "      <td>18292.0</td>\n",
       "      <td>7.7</td>\n",
       "      <td>2839.481446</td>\n",
       "    </tr>\n",
       "    <tr>\n",
       "      <td>7</td>\n",
       "      <td>Hindi Medium</td>\n",
       "      <td>18315.0</td>\n",
       "      <td>7.8</td>\n",
       "      <td>2837.668725</td>\n",
       "    </tr>\n",
       "    <tr>\n",
       "      <td>8</td>\n",
       "      <td>Pyaar Ka Punchnama</td>\n",
       "      <td>18369.0</td>\n",
       "      <td>7.7</td>\n",
       "      <td>2833.246824</td>\n",
       "    </tr>\n",
       "    <tr>\n",
       "      <td>9</td>\n",
       "      <td>Ae Dil Hai Mushkil</td>\n",
       "      <td>18998.0</td>\n",
       "      <td>5.8</td>\n",
       "      <td>2782.313320</td>\n",
       "    </tr>\n",
       "    <tr>\n",
       "      <td>10</td>\n",
       "      <td>Neerja</td>\n",
       "      <td>19046.0</td>\n",
       "      <td>7.7</td>\n",
       "      <td>2779.590078</td>\n",
       "    </tr>\n",
       "    <tr>\n",
       "      <td>11</td>\n",
       "      <td>Tiger Zinda Hai</td>\n",
       "      <td>19760.0</td>\n",
       "      <td>6.0</td>\n",
       "      <td>2724.241703</td>\n",
       "    </tr>\n",
       "    <tr>\n",
       "      <td>12</td>\n",
       "      <td>Masaan</td>\n",
       "      <td>19904.0</td>\n",
       "      <td>8.1</td>\n",
       "      <td>2714.665099</td>\n",
       "    </tr>\n",
       "    <tr>\n",
       "      <td>13</td>\n",
       "      <td>Badlapur (film)</td>\n",
       "      <td>20021.0</td>\n",
       "      <td>7.4</td>\n",
       "      <td>2705.636364</td>\n",
       "    </tr>\n",
       "    <tr>\n",
       "      <td>14</td>\n",
       "      <td>Raazi</td>\n",
       "      <td>20289.0</td>\n",
       "      <td>7.8</td>\n",
       "      <td>2686.255991</td>\n",
       "    </tr>\n",
       "  </tbody>\n",
       "</table>\n",
       "</div>"
      ],
      "text/plain": [
       "                             title  imdb_votes  imdb_rating        score\n",
       "0        Manjhi – The Mountain Man     16622.0          8.0  2981.959509\n",
       "1   Goliyon Ki Raasleela Ram-Leela     17246.0          6.4  2926.322553\n",
       "2              Jab Harry Met Sejal     17317.0          5.3  2919.649425\n",
       "3           Sonu Ke Titu Ki Sweety     17378.0          7.1  2915.338545\n",
       "4                      Ugly (film)     17483.0          8.1  2906.893185\n",
       "5                 Secret Superstar     17698.0          7.9  2888.621096\n",
       "6    Parmanu: The Story of Pokhran     18292.0          7.7  2839.481446\n",
       "7                     Hindi Medium     18315.0          7.8  2837.668725\n",
       "8               Pyaar Ka Punchnama     18369.0          7.7  2833.246824\n",
       "9               Ae Dil Hai Mushkil     18998.0          5.8  2782.313320\n",
       "10                          Neerja     19046.0          7.7  2779.590078\n",
       "11                 Tiger Zinda Hai     19760.0          6.0  2724.241703\n",
       "12                          Masaan     19904.0          8.1  2714.665099\n",
       "13                 Badlapur (film)     20021.0          7.4  2705.636364\n",
       "14                           Raazi     20289.0          7.8  2686.255991"
      ]
     },
     "execution_count": 10,
     "metadata": {},
     "output_type": "execute_result"
    }
   ],
   "source": [
    "q_movies[['title', 'imdb_votes', 'imdb_rating', 'score']].reset_index(drop=True).head(15)"
   ]
  },
  {
   "cell_type": "markdown",
   "metadata": {},
   "source": [
    "# Content-Based Filtering (on story)"
   ]
  },
  {
   "cell_type": "code",
   "execution_count": 27,
   "metadata": {},
   "outputs": [
    {
     "data": {
      "text/plain": [
       "(916, 10490)"
      ]
     },
     "execution_count": 27,
     "metadata": {},
     "output_type": "execute_result"
    }
   ],
   "source": [
    "#Importing TfIdfVectorizer from scikit-learn\n",
    "from sklearn.feature_extraction.text import TfidfVectorizer\n",
    "\n",
    "#Defining a TF-IDF Vectorizer Object. Remove all english stop words such as 'the', 'a'\n",
    "tfidf = TfidfVectorizer(stop_words='english')\n",
    "\n",
    "#Replacing NaN with an empty string\n",
    "movie_dataset['story'] =movie_dataset['story'].fillna('')\n",
    "\n",
    "#Constructing the required TF-IDF matrix by fitting and transforming the data\n",
    "tfidf_matrix = tfidf.fit_transform(movie_dataset['story'])\n",
    "\n",
    "#Output the shape of tfidf_matrix\n",
    "tfidf_matrix.shape\n"
   ]
  },
  {
   "cell_type": "code",
   "execution_count": 28,
   "metadata": {},
   "outputs": [],
   "source": [
    "# Importing linear_kernel\n",
    "from sklearn.metrics.pairwise import linear_kernel\n",
    "\n",
    "# Computing the cosine similarity matrix\n",
    "cosine_sim = linear_kernel(tfidf_matrix, tfidf_matrix)"
   ]
  },
  {
   "cell_type": "code",
   "execution_count": 29,
   "metadata": {},
   "outputs": [
    {
     "data": {
      "text/html": [
       "<div>\n",
       "<style scoped>\n",
       "    .dataframe tbody tr th:only-of-type {\n",
       "        vertical-align: middle;\n",
       "    }\n",
       "\n",
       "    .dataframe tbody tr th {\n",
       "        vertical-align: top;\n",
       "    }\n",
       "\n",
       "    .dataframe thead th {\n",
       "        text-align: right;\n",
       "    }\n",
       "</style>\n",
       "<table border=\"1\" class=\"dataframe\">\n",
       "  <thead>\n",
       "    <tr style=\"text-align: right;\">\n",
       "      <th></th>\n",
       "      <th>0</th>\n",
       "    </tr>\n",
       "    <tr>\n",
       "      <th>title</th>\n",
       "      <th></th>\n",
       "    </tr>\n",
       "  </thead>\n",
       "  <tbody>\n",
       "    <tr>\n",
       "      <td>Uri: The Surgical Strike</td>\n",
       "      <td>0</td>\n",
       "    </tr>\n",
       "    <tr>\n",
       "      <td>Battalion 609</td>\n",
       "      <td>1</td>\n",
       "    </tr>\n",
       "    <tr>\n",
       "      <td>The Accidental Prime Minister (film)</td>\n",
       "      <td>2</td>\n",
       "    </tr>\n",
       "    <tr>\n",
       "      <td>Why Cheat India</td>\n",
       "      <td>3</td>\n",
       "    </tr>\n",
       "    <tr>\n",
       "      <td>Evening Shadows</td>\n",
       "      <td>4</td>\n",
       "    </tr>\n",
       "    <tr>\n",
       "      <td>Soni (film)</td>\n",
       "      <td>5</td>\n",
       "    </tr>\n",
       "    <tr>\n",
       "      <td>Fraud Saiyaan</td>\n",
       "      <td>6</td>\n",
       "    </tr>\n",
       "    <tr>\n",
       "      <td>Bombairiya</td>\n",
       "      <td>7</td>\n",
       "    </tr>\n",
       "    <tr>\n",
       "      <td>Manikarnika: The Queen of Jhansi</td>\n",
       "      <td>8</td>\n",
       "    </tr>\n",
       "    <tr>\n",
       "      <td>Thackeray (film)</td>\n",
       "      <td>9</td>\n",
       "    </tr>\n",
       "    <tr>\n",
       "      <td>Amavas</td>\n",
       "      <td>10</td>\n",
       "    </tr>\n",
       "    <tr>\n",
       "      <td>Gully Boy</td>\n",
       "      <td>11</td>\n",
       "    </tr>\n",
       "    <tr>\n",
       "      <td>Hum Chaar</td>\n",
       "      <td>12</td>\n",
       "    </tr>\n",
       "  </tbody>\n",
       "</table>\n",
       "</div>"
      ],
      "text/plain": [
       "                                       0\n",
       "title                                   \n",
       "Uri: The Surgical Strike               0\n",
       "Battalion 609                          1\n",
       "The Accidental Prime Minister (film)   2\n",
       "Why Cheat India                        3\n",
       "Evening Shadows                        4\n",
       "Soni (film)                            5\n",
       "Fraud Saiyaan                          6\n",
       "Bombairiya                             7\n",
       "Manikarnika: The Queen of Jhansi       8\n",
       "Thackeray (film)                       9\n",
       "Amavas                                10\n",
       "Gully Boy                             11\n",
       "Hum Chaar                             12"
      ]
     },
     "execution_count": 29,
     "metadata": {},
     "output_type": "execute_result"
    }
   ],
   "source": [
    "#Constructing a reverse map of indices and movie titles\n",
    "indices = pd.Series(movie_dataset.index, index=movie_dataset['title']).drop_duplicates()\n",
    "\n",
    "pd.DataFrame(indices).head(13)"
   ]
  },
  {
   "cell_type": "code",
   "execution_count": 30,
   "metadata": {},
   "outputs": [],
   "source": [
    "def get_recomendation(title,cosine_sim =cosine_sim ):\n",
    "    #Getting the index of the movie given its title\n",
    "    idx=indices[title]\n",
    "    #Getting the list of cosine similarity scores\n",
    "    sim_scores=list(enumerate(cosine_sim[idx]))\n",
    "    #sorting based on sim_score\n",
    "    sim_scores=sorted(sim_scores,key=lambda x:x[1],reverse=True)\n",
    "    # Getting the scores of the 10 most similar movies\n",
    "    sim_scores = sim_scores[1:11]\n",
    "    #Getting the  movies indices \n",
    "    sim_scores=[i[0] for i in sim_scores]\n",
    "     \n",
    "    return movie_dataset['title'].iloc[sim_scores]"
   ]
  },
  {
   "cell_type": "code",
   "execution_count": 44,
   "metadata": {},
   "outputs": [
    {
     "name": "stdout",
     "output_type": "stream",
     "text": [
      "Enter your favourite movie: Sachin: A Billion Dreams\n"
     ]
    },
    {
     "data": {
      "text/plain": [
       "704              Ferrari Ki Sawaari\n",
       "332    M.S. Dhoni: The Untold Story\n",
       "21                         22 Yards\n",
       "163                   Coffee with D\n",
       "736                OMG – Oh My God!\n",
       "577             Mumbai Delhi Mumbai\n",
       "611           Bombay Talkies (film)\n",
       "1                     Battalion 609\n",
       "587                     Akaash Vani\n",
       "204                     Shab (film)\n",
       "Name: title, dtype: object"
      ]
     },
     "execution_count": 44,
     "metadata": {},
     "output_type": "execute_result"
    }
   ],
   "source": [
    "user_title=input('Enter your favourite movie: ')\n",
    "get_recomendation(user_title)"
   ]
  },
  {
   "cell_type": "markdown",
   "metadata": {},
   "source": [
    "# Content-Based Filtering (actors)"
   ]
  },
  {
   "cell_type": "code",
   "execution_count": 19,
   "metadata": {},
   "outputs": [
    {
     "data": {
      "text/plain": [
       "(916, 4302)"
      ]
     },
     "execution_count": 19,
     "metadata": {},
     "output_type": "execute_result"
    }
   ],
   "source": [
    "#Importing TfIdfVectorizer from scikit-learn\n",
    "from sklearn.feature_extraction.text import TfidfVectorizer\n",
    "\n",
    "#Defining a TF-IDF Vectorizer Object. Remove all english stop words such as 'the', 'a'\n",
    "tfidf2 = TfidfVectorizer(stop_words='english')\n",
    "\n",
    "#Replacing NaN with an empty string\n",
    "movie_dataset['actors'] =movie_dataset['actors'].fillna('')\n",
    "\n",
    "#Constructing the required TF-IDF matrix by fitting and transforming the data\n",
    "tfidf_matrix2 = tfidf.fit_transform(movie_dataset['actors'])\n",
    "\n",
    "#Output the shape of tfidf_matrix\n",
    "tfidf_matrix2.shape"
   ]
  },
  {
   "cell_type": "code",
   "execution_count": 20,
   "metadata": {},
   "outputs": [],
   "source": [
    "# Importing linear_kernel\n",
    "from sklearn.metrics.pairwise import linear_kernel\n",
    "\n",
    "# Computing the cosine similarity matrix\n",
    "cosine_sim = linear_kernel(tfidf_matrix2, tfidf_matrix2)"
   ]
  },
  {
   "cell_type": "code",
   "execution_count": 21,
   "metadata": {},
   "outputs": [
    {
     "data": {
      "text/html": [
       "<div>\n",
       "<style scoped>\n",
       "    .dataframe tbody tr th:only-of-type {\n",
       "        vertical-align: middle;\n",
       "    }\n",
       "\n",
       "    .dataframe tbody tr th {\n",
       "        vertical-align: top;\n",
       "    }\n",
       "\n",
       "    .dataframe thead th {\n",
       "        text-align: right;\n",
       "    }\n",
       "</style>\n",
       "<table border=\"1\" class=\"dataframe\">\n",
       "  <thead>\n",
       "    <tr style=\"text-align: right;\">\n",
       "      <th></th>\n",
       "      <th>0</th>\n",
       "    </tr>\n",
       "    <tr>\n",
       "      <th>title</th>\n",
       "      <th></th>\n",
       "    </tr>\n",
       "  </thead>\n",
       "  <tbody>\n",
       "    <tr>\n",
       "      <td>Uri: The Surgical Strike</td>\n",
       "      <td>0</td>\n",
       "    </tr>\n",
       "    <tr>\n",
       "      <td>Battalion 609</td>\n",
       "      <td>1</td>\n",
       "    </tr>\n",
       "    <tr>\n",
       "      <td>The Accidental Prime Minister (film)</td>\n",
       "      <td>2</td>\n",
       "    </tr>\n",
       "    <tr>\n",
       "      <td>Why Cheat India</td>\n",
       "      <td>3</td>\n",
       "    </tr>\n",
       "    <tr>\n",
       "      <td>Evening Shadows</td>\n",
       "      <td>4</td>\n",
       "    </tr>\n",
       "    <tr>\n",
       "      <td>Soni (film)</td>\n",
       "      <td>5</td>\n",
       "    </tr>\n",
       "    <tr>\n",
       "      <td>Fraud Saiyaan</td>\n",
       "      <td>6</td>\n",
       "    </tr>\n",
       "    <tr>\n",
       "      <td>Bombairiya</td>\n",
       "      <td>7</td>\n",
       "    </tr>\n",
       "    <tr>\n",
       "      <td>Manikarnika: The Queen of Jhansi</td>\n",
       "      <td>8</td>\n",
       "    </tr>\n",
       "    <tr>\n",
       "      <td>Thackeray (film)</td>\n",
       "      <td>9</td>\n",
       "    </tr>\n",
       "    <tr>\n",
       "      <td>Amavas</td>\n",
       "      <td>10</td>\n",
       "    </tr>\n",
       "    <tr>\n",
       "      <td>Gully Boy</td>\n",
       "      <td>11</td>\n",
       "    </tr>\n",
       "    <tr>\n",
       "      <td>Hum Chaar</td>\n",
       "      <td>12</td>\n",
       "    </tr>\n",
       "  </tbody>\n",
       "</table>\n",
       "</div>"
      ],
      "text/plain": [
       "                                       0\n",
       "title                                   \n",
       "Uri: The Surgical Strike               0\n",
       "Battalion 609                          1\n",
       "The Accidental Prime Minister (film)   2\n",
       "Why Cheat India                        3\n",
       "Evening Shadows                        4\n",
       "Soni (film)                            5\n",
       "Fraud Saiyaan                          6\n",
       "Bombairiya                             7\n",
       "Manikarnika: The Queen of Jhansi       8\n",
       "Thackeray (film)                       9\n",
       "Amavas                                10\n",
       "Gully Boy                             11\n",
       "Hum Chaar                             12"
      ]
     },
     "execution_count": 21,
     "metadata": {},
     "output_type": "execute_result"
    }
   ],
   "source": [
    "#Constructing a reverse map of indices and movie titles\n",
    "indices = pd.Series(movie_dataset.index, index=movie_dataset['title']).drop_duplicates()\n",
    "\n",
    "pd.DataFrame(indices).head(13)"
   ]
  },
  {
   "cell_type": "code",
   "execution_count": 22,
   "metadata": {},
   "outputs": [],
   "source": [
    "def get_recomendation(title,cosine_sim =cosine_sim ):\n",
    "    #Getting the index of the movie given its title\n",
    "    idx=indices[title]\n",
    "    #Getting the list of cosine similarity scores\n",
    "    sim_scores=list(enumerate(cosine_sim[idx]))\n",
    "    #sorting based on sim_score\n",
    "    sim_scores=sorted(sim_scores,key=lambda x:x[1],reverse=True)\n",
    "    # Getting the scores of the 10 most similar movies\n",
    "    sim_scores = sim_scores[1:11]\n",
    "    #Getting the  movies indices \n",
    "    sim_scores=[i[0] for i in sim_scores]\n",
    "     \n",
    "    return movie_dataset[['title','actors']].iloc[sim_scores]"
   ]
  },
  {
   "cell_type": "code",
   "execution_count": 24,
   "metadata": {},
   "outputs": [
    {
     "name": "stdout",
     "output_type": "stream",
     "text": [
      "Enter your favourite movie: Batti Gul Meter Chalu\n",
      "Actors of  Batti Gul Meter Chalu\n",
      "Shahid Kapoor|Shraddha Kapoor|Divyendu Sharma|Yami Gautam|Sushmita Mukherjee|Samir Soni|Ashrut Jain|\n",
      "Recommended movies: \n"
     ]
    },
    {
     "data": {
      "text/html": [
       "<div>\n",
       "<style scoped>\n",
       "    .dataframe tbody tr th:only-of-type {\n",
       "        vertical-align: middle;\n",
       "    }\n",
       "\n",
       "    .dataframe tbody tr th {\n",
       "        vertical-align: top;\n",
       "    }\n",
       "\n",
       "    .dataframe thead th {\n",
       "        text-align: right;\n",
       "    }\n",
       "</style>\n",
       "<table border=\"1\" class=\"dataframe\">\n",
       "  <thead>\n",
       "    <tr style=\"text-align: right;\">\n",
       "      <th></th>\n",
       "      <th>title</th>\n",
       "      <th>actors</th>\n",
       "    </tr>\n",
       "  </thead>\n",
       "  <tbody>\n",
       "    <tr>\n",
       "      <td>694</td>\n",
       "      <td>Vicky Donor</td>\n",
       "      <td>Ayushmann Khurrana|Yami Gautam|Annu Kapoor|Dol...</td>\n",
       "    </tr>\n",
       "    <tr>\n",
       "      <td>119</td>\n",
       "      <td>Mulk (film)</td>\n",
       "      <td>Taapsee Pannu|Rishi Kapoor|Prateik|Ashutosh Ra...</td>\n",
       "    </tr>\n",
       "    <tr>\n",
       "      <td>605</td>\n",
       "      <td>Aashiqui 2</td>\n",
       "      <td>Aditya Roy Kapoor|Shraddha Kapoor|Shaad Randhawa|</td>\n",
       "    </tr>\n",
       "    <tr>\n",
       "      <td>705</td>\n",
       "      <td>Teri Meri Kahaani (film)</td>\n",
       "      <td>Shahid Kapoor|Priyanka Chopra|Prachi Desai|Neh...</td>\n",
       "    </tr>\n",
       "    <tr>\n",
       "      <td>229</td>\n",
       "      <td>Haseena Parkar</td>\n",
       "      <td>Shraddha Kapoor|Ankur Bhatia|Archana Gautam|Si...</td>\n",
       "    </tr>\n",
       "    <tr>\n",
       "      <td>668</td>\n",
       "      <td>Chashme Baddoor (2013 film)</td>\n",
       "      <td>Ali Zafar|Siddharth|Divyendu Sharma|Taapsee Pa...</td>\n",
       "    </tr>\n",
       "    <tr>\n",
       "      <td>819</td>\n",
       "      <td>Mausam (2011 film)</td>\n",
       "      <td>Shahid Kapoor|Sonam Kapoor|Anupam Kher|Supriya...</td>\n",
       "    </tr>\n",
       "    <tr>\n",
       "      <td>885</td>\n",
       "      <td>Milenge Milenge</td>\n",
       "      <td>Kareena Kapoor|Shahid Kapoor|Aarti Chhabria|De...</td>\n",
       "    </tr>\n",
       "    <tr>\n",
       "      <td>328</td>\n",
       "      <td>Days of Tafree</td>\n",
       "      <td>Yash Soni|</td>\n",
       "    </tr>\n",
       "    <tr>\n",
       "      <td>575</td>\n",
       "      <td>Action Jackson (2014 film)</td>\n",
       "      <td>Prabhas|Shahid Kapoor|Ajay Devgn|Sonakshi Sinh...</td>\n",
       "    </tr>\n",
       "  </tbody>\n",
       "</table>\n",
       "</div>"
      ],
      "text/plain": [
       "                           title  \\\n",
       "694                  Vicky Donor   \n",
       "119                  Mulk (film)   \n",
       "605                   Aashiqui 2   \n",
       "705     Teri Meri Kahaani (film)   \n",
       "229               Haseena Parkar   \n",
       "668  Chashme Baddoor (2013 film)   \n",
       "819           Mausam (2011 film)   \n",
       "885              Milenge Milenge   \n",
       "328               Days of Tafree   \n",
       "575   Action Jackson (2014 film)   \n",
       "\n",
       "                                                actors  \n",
       "694  Ayushmann Khurrana|Yami Gautam|Annu Kapoor|Dol...  \n",
       "119  Taapsee Pannu|Rishi Kapoor|Prateik|Ashutosh Ra...  \n",
       "605  Aditya Roy Kapoor|Shraddha Kapoor|Shaad Randhawa|  \n",
       "705  Shahid Kapoor|Priyanka Chopra|Prachi Desai|Neh...  \n",
       "229  Shraddha Kapoor|Ankur Bhatia|Archana Gautam|Si...  \n",
       "668  Ali Zafar|Siddharth|Divyendu Sharma|Taapsee Pa...  \n",
       "819  Shahid Kapoor|Sonam Kapoor|Anupam Kher|Supriya...  \n",
       "885  Kareena Kapoor|Shahid Kapoor|Aarti Chhabria|De...  \n",
       "328                                         Yash Soni|  \n",
       "575  Prabhas|Shahid Kapoor|Ajay Devgn|Sonakshi Sinh...  "
      ]
     },
     "execution_count": 24,
     "metadata": {},
     "output_type": "execute_result"
    }
   ],
   "source": [
    "user_title=input('Enter your favourite movie: ')\n",
    "i=indices[user_title]\n",
    "print('Actors of ',user_title)\n",
    "print(movie_dataset.loc[i]['actors'])\n",
    "print('Recommended movies: ')\n",
    "get_recomendation(user_title)\n"
   ]
  },
  {
   "cell_type": "code",
   "execution_count": null,
   "metadata": {},
   "outputs": [],
   "source": []
  },
  {
   "cell_type": "code",
   "execution_count": null,
   "metadata": {},
   "outputs": [],
   "source": []
  }
 ],
 "metadata": {
  "kernelspec": {
   "display_name": "Python 3",
   "language": "python",
   "name": "python3"
  },
  "language_info": {
   "codemirror_mode": {
    "name": "ipython",
    "version": 3
   },
   "file_extension": ".py",
   "mimetype": "text/x-python",
   "name": "python",
   "nbconvert_exporter": "python",
   "pygments_lexer": "ipython3",
   "version": "3.7.4"
  }
 },
 "nbformat": 4,
 "nbformat_minor": 2
}
